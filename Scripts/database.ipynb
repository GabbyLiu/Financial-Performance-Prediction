{
 "cells": [
  {
   "cell_type": "markdown",
   "metadata": {},
   "source": [
    "## sectors"
   ]
  },
  {
   "cell_type": "code",
   "execution_count": null,
   "metadata": {},
   "outputs": [],
   "source": [
    "tickers_sectors = {\n",
    "    \"Technology\": [\"AAPL\", \"MSFT\", \"GOOGL\", \"AMZN\", \"FB\", \"TSLA\", \"NVDA\", \"INTC\", \"ADBE\", \"CSCO\"],\n",
    "    \"Energy\": [\"XOM\", \"CVX\", \"RDS-A\", \"TOT\", \"BP\", \"COP\", \"SLB\", \"EOG\", \"PXD\", \"OXY\"],\n",
    "    \"Healthcare\": [\"JNJ\", \"UNH\", \"PFE\", \"MRK\", \"ABT\", \"TMO\", \"AMGN\", \"LLY\", \"GILD\", \"DHR\"],\n",
    "    \"Real Estate\": [\"AMT\", \"PLD\", \"CCI\", \"EQIX\", \"DLR\", \"PSA\", \"SPG\", \"WELL\", \"AVB\", \"CBRE\"],\n",
    "    \"Utilities\": [\"NEE\", \"DUK\", \"SO\", \"D\", \"EXC\", \"AEP\", \"SRE\", \"XEL\", \"PEG\", \"ED\"]\n",
    "}"
   ]
  },
  {
   "cell_type": "markdown",
   "metadata": {},
   "source": [
    "## usage"
   ]
  },
  {
   "cell_type": "code",
   "execution_count": null,
   "metadata": {},
   "outputs": [],
   "source": [
    "usage = {\n",
    "    \"Mortgages\": \"Moderate Risk, Moderate Return\",\n",
    "    \"Loans\": \"Moderate Risk, Moderate Return\",\n",
    "    \"Retirement Drawdown\": \"Moderate Risk, Moderate Return\",\n",
    "    \"Alternate Investment\": \"High Risk, High Return\",\n",
    "    \"Emergency Fund\": \"Low Risk, Low Return\"\n",
    "}"
   ]
  },
  {
   "cell_type": "markdown",
   "metadata": {},
   "source": [
    "## duration"
   ]
  },
  {
   "cell_type": "code",
   "execution_count": null,
   "metadata": {},
   "outputs": [],
   "source": [
    "duration = {\n",
    "    \"3-6 months\": \"short term\",\n",
    "    \"Less than 1 year\": \"short term\",\n",
    "    \"1 to 5 years\": \"medium term\",\n",
    "    \"Beyond 5 years\": \"long term\"\n",
    "}"
   ]
  }
 ],
 "metadata": {
  "language_info": {
   "name": "python"
  }
 },
 "nbformat": 4,
 "nbformat_minor": 2
}
