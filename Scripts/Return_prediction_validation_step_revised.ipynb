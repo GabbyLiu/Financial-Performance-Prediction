{
  "cells": [
    {
      "cell_type": "markdown",
      "metadata": {
        "id": "GGp5RuW61IXb"
      },
      "source": [
        "# Return Prediction for View and Uncertainty Matrix"
      ]
    },
    {
      "cell_type": "code",
      "execution_count": 119,
      "metadata": {
        "colab": {
          "base_uri": "https://localhost:8080/"
        },
        "collapsed": true,
        "id": "fxxiNrelbrQS",
        "outputId": "c81cb4ee-80c8-4313-97d2-9630beda5c05"
      },
      "outputs": [
        {
          "output_type": "stream",
          "name": "stderr",
          "text": [
            "[*********************100%%**********************]  1 of 1 completed\n",
            "[*********************100%%**********************]  1 of 1 completed\n",
            "[*********************100%%**********************]  1 of 1 completed\n",
            "<ipython-input-119-678ab99c15e1>:16: SettingWithCopyWarning: \n",
            "A value is trying to be set on a copy of a slice from a DataFrame.\n",
            "Try using .loc[row_indexer,col_indexer] = value instead\n",
            "\n",
            "See the caveats in the documentation: https://pandas.pydata.org/pandas-docs/stable/user_guide/indexing.html#returning-a-view-versus-a-copy\n",
            "  df['SMA_5'] = df['Adj Close'].rolling(window=5).mean()\n",
            "<ipython-input-119-678ab99c15e1>:17: SettingWithCopyWarning: \n",
            "A value is trying to be set on a copy of a slice from a DataFrame.\n",
            "Try using .loc[row_indexer,col_indexer] = value instead\n",
            "\n",
            "See the caveats in the documentation: https://pandas.pydata.org/pandas-docs/stable/user_guide/indexing.html#returning-a-view-versus-a-copy\n",
            "  df['SMA_200'] = df['Adj Close'].rolling(window=200).mean()\n",
            "<ipython-input-119-678ab99c15e1>:16: SettingWithCopyWarning: \n",
            "A value is trying to be set on a copy of a slice from a DataFrame.\n",
            "Try using .loc[row_indexer,col_indexer] = value instead\n",
            "\n",
            "See the caveats in the documentation: https://pandas.pydata.org/pandas-docs/stable/user_guide/indexing.html#returning-a-view-versus-a-copy\n",
            "  df['SMA_5'] = df['Adj Close'].rolling(window=5).mean()\n",
            "<ipython-input-119-678ab99c15e1>:17: SettingWithCopyWarning: \n",
            "A value is trying to be set on a copy of a slice from a DataFrame.\n",
            "Try using .loc[row_indexer,col_indexer] = value instead\n",
            "\n",
            "See the caveats in the documentation: https://pandas.pydata.org/pandas-docs/stable/user_guide/indexing.html#returning-a-view-versus-a-copy\n",
            "  df['SMA_200'] = df['Adj Close'].rolling(window=200).mean()\n",
            "<ipython-input-119-678ab99c15e1>:16: SettingWithCopyWarning: \n",
            "A value is trying to be set on a copy of a slice from a DataFrame.\n",
            "Try using .loc[row_indexer,col_indexer] = value instead\n",
            "\n",
            "See the caveats in the documentation: https://pandas.pydata.org/pandas-docs/stable/user_guide/indexing.html#returning-a-view-versus-a-copy\n",
            "  df['SMA_5'] = df['Adj Close'].rolling(window=5).mean()\n",
            "<ipython-input-119-678ab99c15e1>:17: SettingWithCopyWarning: \n",
            "A value is trying to be set on a copy of a slice from a DataFrame.\n",
            "Try using .loc[row_indexer,col_indexer] = value instead\n",
            "\n",
            "See the caveats in the documentation: https://pandas.pydata.org/pandas-docs/stable/user_guide/indexing.html#returning-a-view-versus-a-copy\n",
            "  df['SMA_200'] = df['Adj Close'].rolling(window=200).mean()\n"
          ]
        }
      ],
      "source": [
        "import pandas as pd\n",
        "import numpy as np\n",
        "from sklearn.ensemble import RandomForestRegressor\n",
        "from sklearn.linear_model import LinearRegression\n",
        "import xgboost as xgb\n",
        "from sklearn.preprocessing import StandardScaler\n",
        "import matplotlib.pyplot as plt\n",
        "import yfinance as yf\n",
        "\n",
        "# Function to preprocess data\n",
        "def preprocess_data(df):\n",
        "    df['Date'] = pd.to_datetime(df.index)\n",
        "    df.set_index('Date', inplace=True)\n",
        "    df['Future_Return'] = df['Adj Close'].shift(-100) / df['Adj Close'] - 1\n",
        "    df = df.dropna(subset=['Future_Return'])\n",
        "    df['SMA_5'] = df['Adj Close'].rolling(window=5).mean()\n",
        "    df['SMA_200'] = df['Adj Close'].rolling(window=200).mean()\n",
        "    df = df.dropna()\n",
        "    features = ['Open', 'High', 'Low', 'Adj Close', 'Volume', 'SMA_5']\n",
        "    X = df[features]\n",
        "    y = df['Future_Return']\n",
        "    scaler = StandardScaler()\n",
        "    X_scaled = scaler.fit_transform(X)\n",
        "    return X_scaled, y\n",
        "\n",
        "# Function to train models and perform bootstrapping\n",
        "def train_and_predict(X_train, y_train, X_test, n_iterations=100):\n",
        "    models = {\n",
        "        'Linear Regression': LinearRegression(),\n",
        "        'Random Forest': RandomForestRegressor(n_estimators=100, random_state=42),\n",
        "        'XGBoost': xgb.XGBRegressor(objective='reg:squarederror', colsample_bytree=0.3, learning_rate=0.1, max_depth=5, alpha=10, n_estimators=100)\n",
        "    }\n",
        "    predictions = {}\n",
        "\n",
        "    for model_name, model in models.items():\n",
        "        model.fit(X_train, y_train)\n",
        "        preds = np.zeros((n_iterations, X_test.shape[0]))\n",
        "        for i in range(n_iterations):\n",
        "            preds[i] = model.predict(X_test)\n",
        "        predictions[model_name] = preds.mean(axis=0)\n",
        "\n",
        "    return predictions\n",
        "\n",
        "# Load data for three companies\n",
        "tickers = ['NVDA', 'AAPL', 'GOOG']  # Example tickers for Apple, Google, and Microsoft\n",
        "\n",
        "# Download historical data for each stock\n",
        "companies_data = []\n",
        "for ticker in tickers:\n",
        "    companies_data.append(yf.download(ticker, start=\"2021-12-31\", end=\"2024-03-31\"))\n",
        "\n",
        "# Preprocess data and split into training and testing sets\n",
        "data_splits = []\n",
        "for df in companies_data:\n",
        "    X, y = preprocess_data(df)\n",
        "    train_size = int(len(X) - 100)\n",
        "    data_splits.append((X[:train_size], X[train_size:], y[:train_size], y[train_size:]))\n",
        "\n",
        "# Initialize matrices to store results\n",
        "n_companies = len(companies_data)\n",
        "n_models = 3\n",
        "returns_matrix = np.zeros((n_companies, n_models))\n",
        "confidence_intervals_matrix = np.zeros((n_companies, n_models, 2))  # lower and upper bounds\n",
        "uncertainty_matrix = np.zeros((n_companies, n_models))\n",
        "\n",
        "# Train models and calculate predictions\n",
        "predicted_returns = []\n",
        "for i, (X_train, X_test, y_train, y_test) in enumerate(data_splits):\n",
        "    predictions = train_and_predict(X_train, y_train, X_test)\n",
        "    uncertainties = train_and_predict(X_train, y_train, X_test)\n",
        "    predicted_returns.append(predictions)\n",
        "\n",
        "    # Store predictions\n",
        "    returns_matrix[i, 0] = predictions['Linear Regression'].mean()\n",
        "    returns_matrix[i, 1] = predictions['Random Forest'].mean()\n",
        "    returns_matrix[i, 2] = predictions['XGBoost'].mean()\n",
        "\n",
        "    # Store confidence intervals (95% CI)\n",
        "    confidence_intervals_matrix[i, 0, 0] = predictions['Linear Regression'].mean() - 1.96 * uncertainties['Linear Regression'].mean()\n",
        "    confidence_intervals_matrix[i, 0, 1] = predictions['Linear Regression'].mean() + 1.96 * uncertainties['Linear Regression'].mean()\n",
        "    confidence_intervals_matrix[i, 1, 0] = predictions['Random Forest'].mean() - 1.96 * uncertainties['Random Forest'].mean()\n",
        "    confidence_intervals_matrix[i, 1, 1] = predictions['Random Forest'].mean() + 1.96 * uncertainties['Random Forest'].mean()\n",
        "    confidence_intervals_matrix[i, 2, 0] = predictions['XGBoost'].mean() - 1.96 * uncertainties['XGBoost'].mean()\n",
        "    confidence_intervals_matrix[i, 2, 1] = predictions['XGBoost'].mean() + 1.96 * uncertainties['XGBoost'].mean()\n",
        "\n",
        "    # Calculate uncertainty as the width of the confidence interval\n",
        "    uncertainty_matrix[i, 0] = confidence_intervals_matrix[i, 0, 1] - confidence_intervals_matrix[i, 0, 0]\n",
        "    uncertainty_matrix[i, 1] = confidence_intervals_matrix[i, 1, 1] - confidence_intervals_matrix[i, 1, 0]\n",
        "    uncertainty_matrix[i, 2] = confidence_intervals_matrix[i, 2, 1] - confidence_intervals_matrix[i, 2, 0]"
      ]
    },
    {
      "cell_type": "code",
      "execution_count": 120,
      "metadata": {
        "colab": {
          "base_uri": "https://localhost:8080/"
        },
        "id": "ytAs9hW5UteQ",
        "outputId": "867d85ed-8286-4a34-a3ed-45df37eeb0bf"
      },
      "outputs": [
        {
          "output_type": "stream",
          "name": "stderr",
          "text": [
            "[*********************100%%**********************]  1 of 1 completed\n",
            "[*********************100%%**********************]  1 of 1 completed\n",
            "[*********************100%%**********************]  1 of 1 completed"
          ]
        },
        {
          "output_type": "stream",
          "name": "stdout",
          "text": [
            "            NVDA_Open  NVDA_Close   AAPL_Open  AAPL_Close   GOOG_Open  \\\n",
            "Date                                                                    \n",
            "2021-12-31  29.674000   29.366699  178.089996  174.900360  145.544006   \n",
            "2022-01-03  29.815001   30.075634  177.830002  179.273605  144.475494   \n",
            "2022-01-04  30.277000   29.245886  182.630005  176.998337  145.550507   \n",
            "2022-01-05  28.948999   27.562420  179.610001  172.290207  144.181000   \n",
            "2022-01-06  27.639999   28.135557  172.699997  169.414124  137.497498   \n",
            "\n",
            "            GOOG_Close  RiskFreeRate  \n",
            "Date                                  \n",
            "2021-12-31  144.515060          0.02  \n",
            "2022-01-03  144.909592          0.02  \n",
            "2022-01-04  144.252350          0.02  \n",
            "2022-01-05  137.497040          0.02  \n",
            "2022-01-06  137.394653          0.02  \n"
          ]
        },
        {
          "output_type": "stream",
          "name": "stderr",
          "text": [
            "\n"
          ]
        }
      ],
      "source": [
        "import yfinance as yf\n",
        "import pandas as pd\n",
        "\n",
        "# Define the stock tickers\n",
        "tickers = ['NVDA', 'AAPL', 'GOOG']  # Example tickers for Apple, Google, and Microsoft\n",
        "\n",
        "# Download historical data for each stock\n",
        "data = {}\n",
        "for ticker in tickers:\n",
        "    data[ticker] = yf.download(ticker, start=\"2021-12-31\", end=\"2024-03-31\")[['Open', 'Adj Close']]\n",
        "\n",
        "# Combine the data into a single DataFrame\n",
        "df_combined = pd.DataFrame()\n",
        "for ticker in tickers:\n",
        "    df_temp = data[ticker].copy()\n",
        "    df_temp.columns = [f'{ticker}_Open', f'{ticker}_Close']\n",
        "    df_combined = pd.merge(df_combined, df_temp, left_index=True, right_index=True, how='outer')\n",
        "\n",
        "# Add a sample risk-free rate (e.g., 1% per year, constant)\n",
        "df_combined['RiskFreeRate'] = 0.02\n",
        "\n",
        "# Save the combined DataFrame to a CSV file\n",
        "df_combined.to_csv('combined_stock_data.csv')\n",
        "\n",
        "# Display the combined DataFrame\n",
        "print(df_combined.head())"
      ]
    },
    {
      "cell_type": "code",
      "execution_count": 121,
      "metadata": {
        "colab": {
          "base_uri": "https://localhost:8080/"
        },
        "id": "HlI7K7uuVs97",
        "outputId": "69a04df0-a362-4933-ab9c-b98569238e1b"
      },
      "outputs": [
        {
          "output_type": "stream",
          "name": "stdout",
          "text": [
            "            NVDA_Open  NVDA_Close   AAPL_Open  AAPL_Close   GOOG_Open  \\\n",
            "Date                                                                    \n",
            "2022-01-03  29.815001   30.075634  177.830002  179.273605  144.475494   \n",
            "2022-01-04  30.277000   29.245886  182.630005  176.998337  145.550507   \n",
            "2022-01-05  28.948999   27.562420  179.610001  172.290207  144.181000   \n",
            "2022-01-06  27.639999   28.135557  172.699997  169.414124  137.497498   \n",
            "2022-01-07  28.141001   27.205959  172.889999  169.581543  137.904999   \n",
            "\n",
            "            GOOG_Close  RiskFreeRate  NVDA_Close_Return  AAPL_Close_Return  \\\n",
            "Date                                                                         \n",
            "2022-01-03  144.909592          0.02           0.024141           0.025004   \n",
            "2022-01-04  144.252350          0.02          -0.027589          -0.012692   \n",
            "2022-01-05  137.497040          0.02          -0.057562          -0.026600   \n",
            "2022-01-06  137.394653          0.02           0.020794          -0.016693   \n",
            "2022-01-07  136.848770          0.02          -0.033040           0.000988   \n",
            "\n",
            "            GOOG_Close_Return  RiskFreeRate_Return  \n",
            "Date                                                \n",
            "2022-01-03           0.002730                  0.0  \n",
            "2022-01-04          -0.004536                  0.0  \n",
            "2022-01-05          -0.046830                  0.0  \n",
            "2022-01-06          -0.000745                  0.0  \n",
            "2022-01-07          -0.003973                  0.0  \n"
          ]
        }
      ],
      "source": [
        "assets = ['NVDA_Close', 'AAPL_Close', 'GOOG_Close']\n",
        "for asset in assets:\n",
        "    df_combined[f'{asset}_Return'] = df_combined[asset].pct_change()\n",
        "# Calculate daily return for the risk-free rate\n",
        "df_combined['RiskFreeRate_Return'] = df_combined['RiskFreeRate'].pct_change()\n",
        "\n",
        "# Drop NaN values\n",
        "df_combined.dropna(inplace=True)\n",
        "\n",
        "# Select return columns\n",
        "return_columns = [f'{asset}_Return' for asset in assets]\n",
        "returns = df_combined[return_columns]\n",
        "\n",
        "print(df_combined.head())"
      ]
    },
    {
      "cell_type": "code",
      "execution_count": 122,
      "metadata": {
        "id": "lB27HT9lPk8Q"
      },
      "outputs": [],
      "source": [
        "def calculate_sharpe_ratio_portfolio(returns, weights, risk_free_rate = 0.02, periods_per_year=252):\n",
        "    \"\"\"\n",
        "    Calculate the Sharpe Ratio for a portfolio of assets.\n",
        "\n",
        "    Parameters:\n",
        "    returns (pd.DataFrame): DataFrame of daily returns of the assets.\n",
        "    weights (np.array): Array of portfolio weights.\n",
        "    risk_free_rate (float): Risk-free rate, expressed as an annualized rate.\n",
        "    periods_per_year (int): Number of periods per year (252 for daily returns).\n",
        "\n",
        "    Returns:\n",
        "    tuple: The portfolio's volatility and Sharpe Ratio.\n",
        "    \"\"\"\n",
        "    # Calculate the mean and covariance of daily returns\n",
        "    mean_returns = returns.mean()\n",
        "    cov_matrix = returns.cov()\n",
        "\n",
        "    # Calculate the portfolio return and volatility\n",
        "    # portfolio_return = np.dot(weights, mean_returns)\n",
        "    # portfolio_volatility = np.sqrt(np.dot(weights.T, np.dot(cov_matrix, weights)))\n",
        "\n",
        "    portfolio_return = (1+np.dot(weights, mean_returns)) ** periods_per_year - 1\n",
        "    portfolio_volatility = np.sqrt(np.dot(weights.T, np.dot(cov_matrix, weights))) * np.sqrt(periods_per_year)\n",
        "\n",
        "    # # Calculate the annualized risk-free rate per period\n",
        "    # risk_free_rate_per_period = (1 + risk_free_rate) ** (1 / periods_per_year) - 1\n",
        "\n",
        "    # Calculate the excess return\n",
        "    excess_return = portfolio_return - risk_free_rate\n",
        "\n",
        "    # Calculate the Sharpe Ratio\n",
        "    sharpe_ratio = excess_return / portfolio_volatility\n",
        "\n",
        "    return portfolio_return, portfolio_volatility, sharpe_ratio"
      ]
    },
    {
      "cell_type": "code",
      "execution_count": 123,
      "metadata": {
        "colab": {
          "base_uri": "https://localhost:8080/"
        },
        "id": "NFyXX8HpoK7b",
        "outputId": "c5d0e8bb-a7aa-41c3-9136-0ca6cb7f562e"
      },
      "outputs": [
        {
          "output_type": "stream",
          "name": "stdout",
          "text": [
            "Returns Matrix:\n",
            "[[ 0.05904413  0.04623175  0.66398811]\n",
            " [-0.05510407 -0.02423204  0.16376455]\n",
            " [ 0.05145407  0.02786644  0.2196991 ]]\n",
            "Linear Regression Returns: [0.059044127911586614, -0.055104071497187504, 0.05145407141636322]\n",
            "Random Forest Returns: [0.059044127911586614, -0.055104071497187504, 0.05145407141636322]\n",
            "XG Boost Returns: [0.059044127911586614, -0.055104071497187504, 0.05145407141636322]\n"
          ]
        }
      ],
      "source": [
        "# Display results\n",
        "print(\"Returns Matrix:\")\n",
        "print(returns_matrix)\n",
        "\n",
        "linear_regression_returns = returns_matrix[:, 0].tolist()\n",
        "print(\"Linear Regression Returns:\", linear_regression_returns)\n",
        "\n",
        "random_forest_returns = returns_matrix[:, 1].tolist()\n",
        "print(\"Random Forest Returns:\", linear_regression_returns)\n",
        "\n",
        "xg_boost_returns = returns_matrix[:, 2].tolist()\n",
        "print(\"XG Boost Returns:\", linear_regression_returns)"
      ]
    },
    {
      "cell_type": "code",
      "execution_count": 124,
      "metadata": {
        "colab": {
          "base_uri": "https://localhost:8080/"
        },
        "id": "Z2W7wBVInRXZ",
        "outputId": "574ef909-fce5-4217-aa36-484608d4d594"
      },
      "outputs": [
        {
          "output_type": "stream",
          "name": "stdout",
          "text": [
            "{'Linear Regression': [0.06, -0.06, 0.05], 'Random Forest': [0.05, -0.02, 0.03], 'XGBoost': [0.66, 0.16, 0.22]}\n",
            "uncertainty\n",
            "{'Linear Regression': [0.2, -0.2, 0.2], 'Random Forest': [0.2, -0.1, 0.1], 'XGBoost': [2.6, 0.6, 0.9]}\n",
            "      Linear Regression  Random Forest  XGBoost\n",
            "NVDA               0.06           0.05     0.66\n",
            "AAPL              -0.06          -0.02     0.16\n",
            "GOOG               0.05           0.03     0.22\n",
            "      Linear Regression  Random Forest  XGBoost\n",
            "NVDA                0.2            0.2      2.6\n",
            "AAPL               -0.2           -0.1      0.6\n",
            "GOOG                0.2            0.1      0.9\n"
          ]
        }
      ],
      "source": [
        "# Prepare results for output\n",
        "results = {'Linear Regression': [], 'Random Forest': [], 'XGBoost': []}\n",
        "uncertainty_results = {'Linear Regression': [], 'Random Forest': [], 'XGBoost': []}\n",
        "\n",
        "for model_index, model_name in enumerate(results.keys()):\n",
        "    for company_index in range(n_companies):\n",
        "        results[model_name].append(returns_matrix[company_index, model_index])\n",
        "        uncertainty_results[model_name].append(uncertainty_matrix[company_index, model_index])\n",
        "for model_name in results:\n",
        "    results[model_name] = [round(num, 2) for num in results[model_name]]\n",
        "#this result is the viewDict\n",
        "print(results)\n",
        "\n",
        "for model_name in uncertainty_results:\n",
        "    uncertainty_results[model_name] = [round(num, 1) for num in uncertainty_results[model_name]]\n",
        "print(\"uncertainty\")\n",
        "print(uncertainty_results)\n",
        "\n",
        "\n",
        "# Convert results to DataFrame and display\n",
        "results_df = pd.DataFrame(results, index=['NVDA', 'AAPL', 'GOOG'])\n",
        "print(results_df)\n",
        "\n",
        "uncertainty_df = pd.DataFrame(uncertainty_results, index=['NVDA', 'AAPL', 'GOOG'])\n",
        "print(uncertainty_df)\n"
      ]
    },
    {
      "cell_type": "code",
      "execution_count": 125,
      "metadata": {
        "colab": {
          "base_uri": "https://localhost:8080/"
        },
        "id": "iK6DASGExEvu",
        "outputId": "f9fdfb06-d6dc-4264-861a-231857a646b9"
      },
      "outputs": [
        {
          "output_type": "stream",
          "name": "stdout",
          "text": [
            "{'NVDA': 0.06, 'AAPL': -0.06, 'GOOG': 0.05}\n",
            "{'NVDA': 0.05, 'AAPL': -0.02, 'GOOG': 0.03}\n",
            "{'NVDA': 0.66, 'AAPL': 0.16, 'GOOG': 0.22}\n"
          ]
        }
      ],
      "source": [
        "#ViewDict for Black-LItterman\n",
        "# for viewDict dictionary\n",
        "# exmaple\n",
        "'''viewdict = {\n",
        "    \"AMZN\": 0.10,\n",
        "    \"BAC\": 0.30,\n",
        "    \"COST\": 0.05,\n",
        "    \"DIS\": 0.05,\n",
        "    \"DPZ\": 0.20,\n",
        "    \"KO\": -0.05,  # I think Coca-Cola will go down 5%\n",
        "    \"MCD\": 0.15,\n",
        "    \"MSFT\": 0.10,\n",
        "    \"NAT\": 0.50,  # but low confidence, which will be reflected later\n",
        "    \"SBUX\": 0.10\n",
        "}\n",
        "'''\n",
        "# Using Linear Regression model\n",
        "\n",
        "linear_regression_returns_viewDict = results_df['Linear Regression'].to_dict()\n",
        "print(linear_regression_returns_viewDict)\n",
        "\n",
        "rf_returns_viewDict = results_df['Random Forest'].to_dict()\n",
        "print(rf_returns_viewDict)\n",
        "\n",
        "xg_returns_viewDict = results_df['XGBoost'].to_dict()\n",
        "print(xg_returns_viewDict)"
      ]
    },
    {
      "cell_type": "code",
      "execution_count": 126,
      "metadata": {
        "colab": {
          "base_uri": "https://localhost:8080/"
        },
        "id": "NY5T9n7HW-4r",
        "outputId": "5d0e8b21-97fb-42c2-84d7-a3b0c34269cd"
      },
      "outputs": [
        {
          "output_type": "stream",
          "name": "stdout",
          "text": [
            "[0.06, -0.06, 0.05]\n"
          ]
        }
      ],
      "source": [
        "print(results_df['Linear Regression'].tolist())"
      ]
    },
    {
      "cell_type": "markdown",
      "metadata": {
        "id": "zH_MpaHuXfJ5"
      },
      "source": []
    },
    {
      "cell_type": "code",
      "execution_count": 55,
      "metadata": {
        "colab": {
          "base_uri": "https://localhost:8080/",
          "height": 53
        },
        "id": "kgAaY_fbXRM_",
        "outputId": "648b396b-d1ad-44d3-e07f-ac02d86187c2"
      },
      "outputs": [
        {
          "output_type": "execute_result",
          "data": {
            "text/plain": [
              "'lr_weights = np.array(results_df[\\'Linear Regression\\'].tolist())\\nportfolio_volatility, sharpe_ratio = calculate_sharpe_ratio_portfolio(returns,lr_weights, 0.02)\\nprint(f\"Portfolio Volatility: {portfolio_volatility:.4f}\")\\nprint(f\"Sharpe Ratio for the portfolio: {sharpe_ratio:.4f}\")\\n'"
            ],
            "application/vnd.google.colaboratory.intrinsic+json": {
              "type": "string"
            }
          },
          "metadata": {},
          "execution_count": 55
        }
      ],
      "source": [
        "'''lr_weights = np.array(results_df['Linear Regression'].tolist())\n",
        "portfolio_volatility, sharpe_ratio = calculate_sharpe_ratio_portfolio(returns,lr_weights, 0.02)\n",
        "print(f\"Portfolio Volatility: {portfolio_volatility:.4f}\")\n",
        "print(f\"Sharpe Ratio for the portfolio: {sharpe_ratio:.4f}\")\n",
        "'''"
      ]
    },
    {
      "cell_type": "code",
      "execution_count": 127,
      "metadata": {
        "colab": {
          "base_uri": "https://localhost:8080/"
        },
        "id": "4ulhSiH_uaCT",
        "outputId": "85e4497b-e117-4a72-9daf-7fe92437c163"
      },
      "outputs": [
        {
          "output_type": "stream",
          "name": "stdout",
          "text": [
            "[0.2, -0.2, 0.2]\n",
            "[0.2, -0.1, 0.1]\n",
            "[2.6, 0.6, 0.9]\n"
          ]
        }
      ],
      "source": [
        "#uncertainty matrix\n",
        "'''confidences = [\n",
        "    0.6,\n",
        "    0.4,\n",
        "    0.2,\n",
        "    0.5,\n",
        "    0.7, # confident in dominos\n",
        "    0.7, # confident KO will do poorly\n",
        "    0.7,\n",
        "    0.5,\n",
        "    0.1,\n",
        "    0.4\n",
        "]\n",
        "'''\n",
        "\n",
        "linear_regression_confidences = uncertainty_df['Linear Regression'].to_list()\n",
        "print(linear_regression_confidences)\n",
        "\n",
        "rf_confidences = uncertainty_df['Random Forest'].to_list()\n",
        "print(rf_confidences)\n",
        "\n",
        "xg_confidences = uncertainty_df['XGBoost'].to_list()\n",
        "print(xg_confidences)"
      ]
    },
    {
      "cell_type": "markdown",
      "metadata": {
        "id": "FX6pOk8D1AHz"
      },
      "source": [
        "# Portfolio Optimization\n"
      ]
    },
    {
      "cell_type": "code",
      "execution_count": 11,
      "metadata": {
        "colab": {
          "base_uri": "https://localhost:8080/"
        },
        "collapsed": true,
        "id": "Nx3CPz5Q1ScQ",
        "outputId": "ac1f8cea-044b-4403-97d9-9cb5a95a5ff9"
      },
      "outputs": [
        {
          "output_type": "stream",
          "name": "stdout",
          "text": [
            "Requirement already satisfied: pandas in /usr/local/lib/python3.10/dist-packages (2.1.4)\n",
            "Requirement already satisfied: numpy in /usr/local/lib/python3.10/dist-packages (1.26.4)\n",
            "Requirement already satisfied: matplotlib in /usr/local/lib/python3.10/dist-packages (3.7.1)\n",
            "Requirement already satisfied: yfinance in /usr/local/lib/python3.10/dist-packages (0.2.41)\n",
            "Collecting PyPortfolioOpt\n",
            "  Downloading pyportfolioopt-1.5.5-py3-none-any.whl.metadata (23 kB)\n",
            "Requirement already satisfied: python-dateutil>=2.8.2 in /usr/local/lib/python3.10/dist-packages (from pandas) (2.8.2)\n",
            "Requirement already satisfied: pytz>=2020.1 in /usr/local/lib/python3.10/dist-packages (from pandas) (2024.1)\n",
            "Requirement already satisfied: tzdata>=2022.1 in /usr/local/lib/python3.10/dist-packages (from pandas) (2024.1)\n",
            "Requirement already satisfied: contourpy>=1.0.1 in /usr/local/lib/python3.10/dist-packages (from matplotlib) (1.2.1)\n",
            "Requirement already satisfied: cycler>=0.10 in /usr/local/lib/python3.10/dist-packages (from matplotlib) (0.12.1)\n",
            "Requirement already satisfied: fonttools>=4.22.0 in /usr/local/lib/python3.10/dist-packages (from matplotlib) (4.53.1)\n",
            "Requirement already satisfied: kiwisolver>=1.0.1 in /usr/local/lib/python3.10/dist-packages (from matplotlib) (1.4.5)\n",
            "Requirement already satisfied: packaging>=20.0 in /usr/local/lib/python3.10/dist-packages (from matplotlib) (24.1)\n",
            "Requirement already satisfied: pillow>=6.2.0 in /usr/local/lib/python3.10/dist-packages (from matplotlib) (9.4.0)\n",
            "Requirement already satisfied: pyparsing>=2.3.1 in /usr/local/lib/python3.10/dist-packages (from matplotlib) (3.1.2)\n",
            "Requirement already satisfied: requests>=2.31 in /usr/local/lib/python3.10/dist-packages (from yfinance) (2.32.3)\n",
            "Requirement already satisfied: multitasking>=0.0.7 in /usr/local/lib/python3.10/dist-packages (from yfinance) (0.0.11)\n",
            "Requirement already satisfied: lxml>=4.9.1 in /usr/local/lib/python3.10/dist-packages (from yfinance) (4.9.4)\n",
            "Requirement already satisfied: platformdirs>=2.0.0 in /usr/local/lib/python3.10/dist-packages (from yfinance) (4.2.2)\n",
            "Requirement already satisfied: frozendict>=2.3.4 in /usr/local/lib/python3.10/dist-packages (from yfinance) (2.4.4)\n",
            "Requirement already satisfied: peewee>=3.16.2 in /usr/local/lib/python3.10/dist-packages (from yfinance) (3.17.6)\n",
            "Requirement already satisfied: beautifulsoup4>=4.11.1 in /usr/local/lib/python3.10/dist-packages (from yfinance) (4.12.3)\n",
            "Requirement already satisfied: html5lib>=1.1 in /usr/local/lib/python3.10/dist-packages (from yfinance) (1.1)\n",
            "Requirement already satisfied: cvxpy<2.0.0,>=1.1.19 in /usr/local/lib/python3.10/dist-packages (from PyPortfolioOpt) (1.5.2)\n",
            "Requirement already satisfied: scipy<2.0,>=1.3 in /usr/local/lib/python3.10/dist-packages (from PyPortfolioOpt) (1.13.1)\n",
            "Requirement already satisfied: soupsieve>1.2 in /usr/local/lib/python3.10/dist-packages (from beautifulsoup4>=4.11.1->yfinance) (2.5)\n",
            "Requirement already satisfied: osqp>=0.6.2 in /usr/local/lib/python3.10/dist-packages (from cvxpy<2.0.0,>=1.1.19->PyPortfolioOpt) (0.6.7.post0)\n",
            "Requirement already satisfied: ecos>=2 in /usr/local/lib/python3.10/dist-packages (from cvxpy<2.0.0,>=1.1.19->PyPortfolioOpt) (2.0.14)\n",
            "Requirement already satisfied: clarabel>=0.5.0 in /usr/local/lib/python3.10/dist-packages (from cvxpy<2.0.0,>=1.1.19->PyPortfolioOpt) (0.9.0)\n",
            "Requirement already satisfied: scs>=3.2.4.post1 in /usr/local/lib/python3.10/dist-packages (from cvxpy<2.0.0,>=1.1.19->PyPortfolioOpt) (3.2.6)\n",
            "Requirement already satisfied: six>=1.9 in /usr/local/lib/python3.10/dist-packages (from html5lib>=1.1->yfinance) (1.16.0)\n",
            "Requirement already satisfied: webencodings in /usr/local/lib/python3.10/dist-packages (from html5lib>=1.1->yfinance) (0.5.1)\n",
            "Requirement already satisfied: charset-normalizer<4,>=2 in /usr/local/lib/python3.10/dist-packages (from requests>=2.31->yfinance) (3.3.2)\n",
            "Requirement already satisfied: idna<4,>=2.5 in /usr/local/lib/python3.10/dist-packages (from requests>=2.31->yfinance) (3.7)\n",
            "Requirement already satisfied: urllib3<3,>=1.21.1 in /usr/local/lib/python3.10/dist-packages (from requests>=2.31->yfinance) (2.0.7)\n",
            "Requirement already satisfied: certifi>=2017.4.17 in /usr/local/lib/python3.10/dist-packages (from requests>=2.31->yfinance) (2024.7.4)\n",
            "Requirement already satisfied: qdldl in /usr/local/lib/python3.10/dist-packages (from osqp>=0.6.2->cvxpy<2.0.0,>=1.1.19->PyPortfolioOpt) (0.1.7.post4)\n",
            "Downloading pyportfolioopt-1.5.5-py3-none-any.whl (61 kB)\n",
            "\u001b[2K   \u001b[90m━━━━━━━━━━━━━━━━━━━━━━━━━━━━━━━━━━━━━━━━\u001b[0m \u001b[32m61.9/61.9 kB\u001b[0m \u001b[31m3.9 MB/s\u001b[0m eta \u001b[36m0:00:00\u001b[0m\n",
            "\u001b[?25hInstalling collected packages: PyPortfolioOpt\n",
            "Successfully installed PyPortfolioOpt-1.5.5\n"
          ]
        }
      ],
      "source": [
        "!pip install pandas numpy matplotlib yfinance PyPortfolioOpt"
      ]
    },
    {
      "cell_type": "code",
      "execution_count": 57,
      "metadata": {
        "id": "sjf6Oqa51SfT"
      },
      "outputs": [],
      "source": [
        "import numpy as np\n",
        "import pandas as pd\n",
        "import matplotlib.pyplot as plt\n",
        "import yfinance as yf\n",
        "from pypfopt import EfficientFrontier, risk_models, black_litterman, expected_returns, BlackLittermanModel, HRPOpt, CLA"
      ]
    },
    {
      "cell_type": "code",
      "execution_count": 128,
      "metadata": {
        "colab": {
          "base_uri": "https://localhost:8080/",
          "height": 255
        },
        "collapsed": true,
        "id": "tlaIEwgR1SiG",
        "outputId": "865ecff9-0360-4981-8f00-61d74b7578ae"
      },
      "outputs": [
        {
          "output_type": "stream",
          "name": "stderr",
          "text": [
            "[*********************100%%**********************]  3 of 3 completed\n"
          ]
        },
        {
          "output_type": "execute_result",
          "data": {
            "text/plain": [
              "Ticker            AAPL        GOOG       NVDA\n",
              "Date                                         \n",
              "2022-01-03  179.273605  144.909592  30.075630\n",
              "2022-01-04  176.998322  144.252350  29.245884\n",
              "2022-01-05  172.290192  137.497040  27.562424\n",
              "2022-01-06  169.414108  137.394653  28.135557\n",
              "2022-01-07  169.581528  136.848770  27.205961"
            ],
            "text/html": [
              "\n",
              "  <div id=\"df-d6ca66d3-7e35-4845-a5c3-b27d1e09de85\" class=\"colab-df-container\">\n",
              "    <div>\n",
              "<style scoped>\n",
              "    .dataframe tbody tr th:only-of-type {\n",
              "        vertical-align: middle;\n",
              "    }\n",
              "\n",
              "    .dataframe tbody tr th {\n",
              "        vertical-align: top;\n",
              "    }\n",
              "\n",
              "    .dataframe thead th {\n",
              "        text-align: right;\n",
              "    }\n",
              "</style>\n",
              "<table border=\"1\" class=\"dataframe\">\n",
              "  <thead>\n",
              "    <tr style=\"text-align: right;\">\n",
              "      <th>Ticker</th>\n",
              "      <th>AAPL</th>\n",
              "      <th>GOOG</th>\n",
              "      <th>NVDA</th>\n",
              "    </tr>\n",
              "    <tr>\n",
              "      <th>Date</th>\n",
              "      <th></th>\n",
              "      <th></th>\n",
              "      <th></th>\n",
              "    </tr>\n",
              "  </thead>\n",
              "  <tbody>\n",
              "    <tr>\n",
              "      <th>2022-01-03</th>\n",
              "      <td>179.273605</td>\n",
              "      <td>144.909592</td>\n",
              "      <td>30.075630</td>\n",
              "    </tr>\n",
              "    <tr>\n",
              "      <th>2022-01-04</th>\n",
              "      <td>176.998322</td>\n",
              "      <td>144.252350</td>\n",
              "      <td>29.245884</td>\n",
              "    </tr>\n",
              "    <tr>\n",
              "      <th>2022-01-05</th>\n",
              "      <td>172.290192</td>\n",
              "      <td>137.497040</td>\n",
              "      <td>27.562424</td>\n",
              "    </tr>\n",
              "    <tr>\n",
              "      <th>2022-01-06</th>\n",
              "      <td>169.414108</td>\n",
              "      <td>137.394653</td>\n",
              "      <td>28.135557</td>\n",
              "    </tr>\n",
              "    <tr>\n",
              "      <th>2022-01-07</th>\n",
              "      <td>169.581528</td>\n",
              "      <td>136.848770</td>\n",
              "      <td>27.205961</td>\n",
              "    </tr>\n",
              "  </tbody>\n",
              "</table>\n",
              "</div>\n",
              "    <div class=\"colab-df-buttons\">\n",
              "\n",
              "  <div class=\"colab-df-container\">\n",
              "    <button class=\"colab-df-convert\" onclick=\"convertToInteractive('df-d6ca66d3-7e35-4845-a5c3-b27d1e09de85')\"\n",
              "            title=\"Convert this dataframe to an interactive table.\"\n",
              "            style=\"display:none;\">\n",
              "\n",
              "  <svg xmlns=\"http://www.w3.org/2000/svg\" height=\"24px\" viewBox=\"0 -960 960 960\">\n",
              "    <path d=\"M120-120v-720h720v720H120Zm60-500h600v-160H180v160Zm220 220h160v-160H400v160Zm0 220h160v-160H400v160ZM180-400h160v-160H180v160Zm440 0h160v-160H620v160ZM180-180h160v-160H180v160Zm440 0h160v-160H620v160Z\"/>\n",
              "  </svg>\n",
              "    </button>\n",
              "\n",
              "  <style>\n",
              "    .colab-df-container {\n",
              "      display:flex;\n",
              "      gap: 12px;\n",
              "    }\n",
              "\n",
              "    .colab-df-convert {\n",
              "      background-color: #E8F0FE;\n",
              "      border: none;\n",
              "      border-radius: 50%;\n",
              "      cursor: pointer;\n",
              "      display: none;\n",
              "      fill: #1967D2;\n",
              "      height: 32px;\n",
              "      padding: 0 0 0 0;\n",
              "      width: 32px;\n",
              "    }\n",
              "\n",
              "    .colab-df-convert:hover {\n",
              "      background-color: #E2EBFA;\n",
              "      box-shadow: 0px 1px 2px rgba(60, 64, 67, 0.3), 0px 1px 3px 1px rgba(60, 64, 67, 0.15);\n",
              "      fill: #174EA6;\n",
              "    }\n",
              "\n",
              "    .colab-df-buttons div {\n",
              "      margin-bottom: 4px;\n",
              "    }\n",
              "\n",
              "    [theme=dark] .colab-df-convert {\n",
              "      background-color: #3B4455;\n",
              "      fill: #D2E3FC;\n",
              "    }\n",
              "\n",
              "    [theme=dark] .colab-df-convert:hover {\n",
              "      background-color: #434B5C;\n",
              "      box-shadow: 0px 1px 3px 1px rgba(0, 0, 0, 0.15);\n",
              "      filter: drop-shadow(0px 1px 2px rgba(0, 0, 0, 0.3));\n",
              "      fill: #FFFFFF;\n",
              "    }\n",
              "  </style>\n",
              "\n",
              "    <script>\n",
              "      const buttonEl =\n",
              "        document.querySelector('#df-d6ca66d3-7e35-4845-a5c3-b27d1e09de85 button.colab-df-convert');\n",
              "      buttonEl.style.display =\n",
              "        google.colab.kernel.accessAllowed ? 'block' : 'none';\n",
              "\n",
              "      async function convertToInteractive(key) {\n",
              "        const element = document.querySelector('#df-d6ca66d3-7e35-4845-a5c3-b27d1e09de85');\n",
              "        const dataTable =\n",
              "          await google.colab.kernel.invokeFunction('convertToInteractive',\n",
              "                                                    [key], {});\n",
              "        if (!dataTable) return;\n",
              "\n",
              "        const docLinkHtml = 'Like what you see? Visit the ' +\n",
              "          '<a target=\"_blank\" href=https://colab.research.google.com/notebooks/data_table.ipynb>data table notebook</a>'\n",
              "          + ' to learn more about interactive tables.';\n",
              "        element.innerHTML = '';\n",
              "        dataTable['output_type'] = 'display_data';\n",
              "        await google.colab.output.renderOutput(dataTable, element);\n",
              "        const docLink = document.createElement('div');\n",
              "        docLink.innerHTML = docLinkHtml;\n",
              "        element.appendChild(docLink);\n",
              "      }\n",
              "    </script>\n",
              "  </div>\n",
              "\n",
              "\n",
              "<div id=\"df-c20e11f1-1cf4-4194-942d-201498ab4dda\">\n",
              "  <button class=\"colab-df-quickchart\" onclick=\"quickchart('df-c20e11f1-1cf4-4194-942d-201498ab4dda')\"\n",
              "            title=\"Suggest charts\"\n",
              "            style=\"display:none;\">\n",
              "\n",
              "<svg xmlns=\"http://www.w3.org/2000/svg\" height=\"24px\"viewBox=\"0 0 24 24\"\n",
              "     width=\"24px\">\n",
              "    <g>\n",
              "        <path d=\"M19 3H5c-1.1 0-2 .9-2 2v14c0 1.1.9 2 2 2h14c1.1 0 2-.9 2-2V5c0-1.1-.9-2-2-2zM9 17H7v-7h2v7zm4 0h-2V7h2v10zm4 0h-2v-4h2v4z\"/>\n",
              "    </g>\n",
              "</svg>\n",
              "  </button>\n",
              "\n",
              "<style>\n",
              "  .colab-df-quickchart {\n",
              "      --bg-color: #E8F0FE;\n",
              "      --fill-color: #1967D2;\n",
              "      --hover-bg-color: #E2EBFA;\n",
              "      --hover-fill-color: #174EA6;\n",
              "      --disabled-fill-color: #AAA;\n",
              "      --disabled-bg-color: #DDD;\n",
              "  }\n",
              "\n",
              "  [theme=dark] .colab-df-quickchart {\n",
              "      --bg-color: #3B4455;\n",
              "      --fill-color: #D2E3FC;\n",
              "      --hover-bg-color: #434B5C;\n",
              "      --hover-fill-color: #FFFFFF;\n",
              "      --disabled-bg-color: #3B4455;\n",
              "      --disabled-fill-color: #666;\n",
              "  }\n",
              "\n",
              "  .colab-df-quickchart {\n",
              "    background-color: var(--bg-color);\n",
              "    border: none;\n",
              "    border-radius: 50%;\n",
              "    cursor: pointer;\n",
              "    display: none;\n",
              "    fill: var(--fill-color);\n",
              "    height: 32px;\n",
              "    padding: 0;\n",
              "    width: 32px;\n",
              "  }\n",
              "\n",
              "  .colab-df-quickchart:hover {\n",
              "    background-color: var(--hover-bg-color);\n",
              "    box-shadow: 0 1px 2px rgba(60, 64, 67, 0.3), 0 1px 3px 1px rgba(60, 64, 67, 0.15);\n",
              "    fill: var(--button-hover-fill-color);\n",
              "  }\n",
              "\n",
              "  .colab-df-quickchart-complete:disabled,\n",
              "  .colab-df-quickchart-complete:disabled:hover {\n",
              "    background-color: var(--disabled-bg-color);\n",
              "    fill: var(--disabled-fill-color);\n",
              "    box-shadow: none;\n",
              "  }\n",
              "\n",
              "  .colab-df-spinner {\n",
              "    border: 2px solid var(--fill-color);\n",
              "    border-color: transparent;\n",
              "    border-bottom-color: var(--fill-color);\n",
              "    animation:\n",
              "      spin 1s steps(1) infinite;\n",
              "  }\n",
              "\n",
              "  @keyframes spin {\n",
              "    0% {\n",
              "      border-color: transparent;\n",
              "      border-bottom-color: var(--fill-color);\n",
              "      border-left-color: var(--fill-color);\n",
              "    }\n",
              "    20% {\n",
              "      border-color: transparent;\n",
              "      border-left-color: var(--fill-color);\n",
              "      border-top-color: var(--fill-color);\n",
              "    }\n",
              "    30% {\n",
              "      border-color: transparent;\n",
              "      border-left-color: var(--fill-color);\n",
              "      border-top-color: var(--fill-color);\n",
              "      border-right-color: var(--fill-color);\n",
              "    }\n",
              "    40% {\n",
              "      border-color: transparent;\n",
              "      border-right-color: var(--fill-color);\n",
              "      border-top-color: var(--fill-color);\n",
              "    }\n",
              "    60% {\n",
              "      border-color: transparent;\n",
              "      border-right-color: var(--fill-color);\n",
              "    }\n",
              "    80% {\n",
              "      border-color: transparent;\n",
              "      border-right-color: var(--fill-color);\n",
              "      border-bottom-color: var(--fill-color);\n",
              "    }\n",
              "    90% {\n",
              "      border-color: transparent;\n",
              "      border-bottom-color: var(--fill-color);\n",
              "    }\n",
              "  }\n",
              "</style>\n",
              "\n",
              "  <script>\n",
              "    async function quickchart(key) {\n",
              "      const quickchartButtonEl =\n",
              "        document.querySelector('#' + key + ' button');\n",
              "      quickchartButtonEl.disabled = true;  // To prevent multiple clicks.\n",
              "      quickchartButtonEl.classList.add('colab-df-spinner');\n",
              "      try {\n",
              "        const charts = await google.colab.kernel.invokeFunction(\n",
              "            'suggestCharts', [key], {});\n",
              "      } catch (error) {\n",
              "        console.error('Error during call to suggestCharts:', error);\n",
              "      }\n",
              "      quickchartButtonEl.classList.remove('colab-df-spinner');\n",
              "      quickchartButtonEl.classList.add('colab-df-quickchart-complete');\n",
              "    }\n",
              "    (() => {\n",
              "      let quickchartButtonEl =\n",
              "        document.querySelector('#df-c20e11f1-1cf4-4194-942d-201498ab4dda button');\n",
              "      quickchartButtonEl.style.display =\n",
              "        google.colab.kernel.accessAllowed ? 'block' : 'none';\n",
              "    })();\n",
              "  </script>\n",
              "</div>\n",
              "\n",
              "    </div>\n",
              "  </div>\n"
            ],
            "application/vnd.google.colaboratory.intrinsic+json": {
              "type": "dataframe",
              "variable_name": "prices",
              "summary": "{\n  \"name\": \"prices\",\n  \"rows\": 501,\n  \"fields\": [\n    {\n      \"column\": \"Date\",\n      \"properties\": {\n        \"dtype\": \"date\",\n        \"min\": \"2022-01-03 00:00:00\",\n        \"max\": \"2023-12-29 00:00:00\",\n        \"num_unique_values\": 501,\n        \"samples\": [\n          \"2023-06-13 00:00:00\",\n          \"2022-04-19 00:00:00\",\n          \"2023-07-03 00:00:00\"\n        ],\n        \"semantic_type\": \"\",\n        \"description\": \"\"\n      }\n    },\n    {\n      \"column\": \"AAPL\",\n      \"properties\": {\n        \"dtype\": \"number\",\n        \"std\": 17.843503295775058,\n        \"min\": 123.85509490966797,\n        \"max\": 197.36106872558594,\n        \"num_unique_values\": 494,\n        \"samples\": [\n          175.75067138671875,\n          164.12686157226562,\n          164.33724975585938\n        ],\n        \"semantic_type\": \"\",\n        \"description\": \"\"\n      }\n    },\n    {\n      \"column\": \"GOOG\",\n      \"properties\": {\n        \"dtype\": \"number\",\n        \"std\": 16.311462869910542,\n        \"min\": 83.39509582519531,\n        \"max\": 147.86822509765625,\n        \"num_unique_values\": 488,\n        \"samples\": [\n          127.8155517578125,\n          87.8300552368164,\n          140.330322265625\n        ],\n        \"semantic_type\": \"\",\n        \"description\": \"\"\n      }\n    },\n    {\n      \"column\": \"NVDA\",\n      \"properties\": {\n        \"dtype\": \"number\",\n        \"std\": 12.231428341847328,\n        \"min\": 11.217702865600586,\n        \"max\": 50.39806365966797,\n        \"num_unique_values\": 498,\n        \"samples\": [\n          48.0817985534668,\n          22.16834259033203,\n          15.9778470993042\n        ],\n        \"semantic_type\": \"\",\n        \"description\": \"\"\n      }\n    }\n  ]\n}"
            }
          },
          "metadata": {},
          "execution_count": 128
        }
      ],
      "source": [
        "tickers = ['NVDA', 'AAPL', 'GOOG']\n",
        "ohlc = yf.download(tickers, start='2022-01-01',end='2024-01-01')\n",
        "prices = ohlc[\"Adj Close\"]\n",
        "prices.head()"
      ]
    },
    {
      "cell_type": "code",
      "execution_count": 129,
      "metadata": {
        "colab": {
          "base_uri": "https://localhost:8080/",
          "height": 290
        },
        "collapsed": true,
        "id": "1EeqFEXq2VLY",
        "outputId": "50a0ca10-0727-406d-bc2c-30fd381a54e9"
      },
      "outputs": [
        {
          "output_type": "stream",
          "name": "stderr",
          "text": [
            "\r[*********************100%%**********************]  1 of 1 completed\n"
          ]
        },
        {
          "output_type": "execute_result",
          "data": {
            "text/plain": [
              "Date\n",
              "2023-12-22    470.664490\n",
              "2023-12-26    472.651886\n",
              "2023-12-27    473.506500\n",
              "2023-12-28    473.685333\n",
              "2023-12-29    472.314026\n",
              "Name: Adj Close, dtype: float64"
            ],
            "text/html": [
              "<div>\n",
              "<style scoped>\n",
              "    .dataframe tbody tr th:only-of-type {\n",
              "        vertical-align: middle;\n",
              "    }\n",
              "\n",
              "    .dataframe tbody tr th {\n",
              "        vertical-align: top;\n",
              "    }\n",
              "\n",
              "    .dataframe thead th {\n",
              "        text-align: right;\n",
              "    }\n",
              "</style>\n",
              "<table border=\"1\" class=\"dataframe\">\n",
              "  <thead>\n",
              "    <tr style=\"text-align: right;\">\n",
              "      <th></th>\n",
              "      <th>Adj Close</th>\n",
              "    </tr>\n",
              "    <tr>\n",
              "      <th>Date</th>\n",
              "      <th></th>\n",
              "    </tr>\n",
              "  </thead>\n",
              "  <tbody>\n",
              "    <tr>\n",
              "      <th>2023-12-22</th>\n",
              "      <td>470.664490</td>\n",
              "    </tr>\n",
              "    <tr>\n",
              "      <th>2023-12-26</th>\n",
              "      <td>472.651886</td>\n",
              "    </tr>\n",
              "    <tr>\n",
              "      <th>2023-12-27</th>\n",
              "      <td>473.506500</td>\n",
              "    </tr>\n",
              "    <tr>\n",
              "      <th>2023-12-28</th>\n",
              "      <td>473.685333</td>\n",
              "    </tr>\n",
              "    <tr>\n",
              "      <th>2023-12-29</th>\n",
              "      <td>472.314026</td>\n",
              "    </tr>\n",
              "  </tbody>\n",
              "</table>\n",
              "</div><br><label><b>dtype:</b> float64</label>"
            ]
          },
          "metadata": {},
          "execution_count": 129
        }
      ],
      "source": [
        "market_prices = yf.download(\"SPY\", start='2022-01-01',end='2024-01-01')[\"Adj Close\"]\n",
        "market_prices.tail()"
      ]
    },
    {
      "cell_type": "code",
      "execution_count": 130,
      "metadata": {
        "colab": {
          "base_uri": "https://localhost:8080/"
        },
        "id": "qBBjl_UD1Skr",
        "outputId": "977c167a-18f9-429d-9bd2-83246efafa01"
      },
      "outputs": [
        {
          "output_type": "execute_result",
          "data": {
            "text/plain": [
              "0.32037815911183104"
            ]
          },
          "metadata": {},
          "execution_count": 130
        }
      ],
      "source": [
        "S = risk_models.CovarianceShrinkage(prices).ledoit_wolf()\n",
        "delta = black_litterman.market_implied_risk_aversion(market_prices)\n",
        "delta"
      ]
    },
    {
      "cell_type": "code",
      "execution_count": 131,
      "metadata": {
        "colab": {
          "base_uri": "https://localhost:8080/",
          "height": 238
        },
        "collapsed": true,
        "id": "xa71n5vP1SnR",
        "outputId": "2c089b80-69b0-4420-88dd-a286cbc99adc"
      },
      "outputs": [
        {
          "output_type": "execute_result",
          "data": {
            "text/plain": [
              "Ticker          AAPL      GOOG      NVDA\n",
              "Date                                    \n",
              "2022-01-04 -0.012692 -0.004536 -0.027589\n",
              "2022-01-05 -0.026600 -0.046830 -0.057562\n",
              "2022-01-06 -0.016693 -0.000745  0.020794\n",
              "2022-01-07  0.000988 -0.003973 -0.033040\n",
              "2022-01-10  0.000116  0.011456  0.005615"
            ],
            "text/html": [
              "\n",
              "  <div id=\"df-bcdfbbb5-5854-4cd6-ab1a-351dd4264a38\" class=\"colab-df-container\">\n",
              "    <div>\n",
              "<style scoped>\n",
              "    .dataframe tbody tr th:only-of-type {\n",
              "        vertical-align: middle;\n",
              "    }\n",
              "\n",
              "    .dataframe tbody tr th {\n",
              "        vertical-align: top;\n",
              "    }\n",
              "\n",
              "    .dataframe thead th {\n",
              "        text-align: right;\n",
              "    }\n",
              "</style>\n",
              "<table border=\"1\" class=\"dataframe\">\n",
              "  <thead>\n",
              "    <tr style=\"text-align: right;\">\n",
              "      <th>Ticker</th>\n",
              "      <th>AAPL</th>\n",
              "      <th>GOOG</th>\n",
              "      <th>NVDA</th>\n",
              "    </tr>\n",
              "    <tr>\n",
              "      <th>Date</th>\n",
              "      <th></th>\n",
              "      <th></th>\n",
              "      <th></th>\n",
              "    </tr>\n",
              "  </thead>\n",
              "  <tbody>\n",
              "    <tr>\n",
              "      <th>2022-01-04</th>\n",
              "      <td>-0.012692</td>\n",
              "      <td>-0.004536</td>\n",
              "      <td>-0.027589</td>\n",
              "    </tr>\n",
              "    <tr>\n",
              "      <th>2022-01-05</th>\n",
              "      <td>-0.026600</td>\n",
              "      <td>-0.046830</td>\n",
              "      <td>-0.057562</td>\n",
              "    </tr>\n",
              "    <tr>\n",
              "      <th>2022-01-06</th>\n",
              "      <td>-0.016693</td>\n",
              "      <td>-0.000745</td>\n",
              "      <td>0.020794</td>\n",
              "    </tr>\n",
              "    <tr>\n",
              "      <th>2022-01-07</th>\n",
              "      <td>0.000988</td>\n",
              "      <td>-0.003973</td>\n",
              "      <td>-0.033040</td>\n",
              "    </tr>\n",
              "    <tr>\n",
              "      <th>2022-01-10</th>\n",
              "      <td>0.000116</td>\n",
              "      <td>0.011456</td>\n",
              "      <td>0.005615</td>\n",
              "    </tr>\n",
              "  </tbody>\n",
              "</table>\n",
              "</div>\n",
              "    <div class=\"colab-df-buttons\">\n",
              "\n",
              "  <div class=\"colab-df-container\">\n",
              "    <button class=\"colab-df-convert\" onclick=\"convertToInteractive('df-bcdfbbb5-5854-4cd6-ab1a-351dd4264a38')\"\n",
              "            title=\"Convert this dataframe to an interactive table.\"\n",
              "            style=\"display:none;\">\n",
              "\n",
              "  <svg xmlns=\"http://www.w3.org/2000/svg\" height=\"24px\" viewBox=\"0 -960 960 960\">\n",
              "    <path d=\"M120-120v-720h720v720H120Zm60-500h600v-160H180v160Zm220 220h160v-160H400v160Zm0 220h160v-160H400v160ZM180-400h160v-160H180v160Zm440 0h160v-160H620v160ZM180-180h160v-160H180v160Zm440 0h160v-160H620v160Z\"/>\n",
              "  </svg>\n",
              "    </button>\n",
              "\n",
              "  <style>\n",
              "    .colab-df-container {\n",
              "      display:flex;\n",
              "      gap: 12px;\n",
              "    }\n",
              "\n",
              "    .colab-df-convert {\n",
              "      background-color: #E8F0FE;\n",
              "      border: none;\n",
              "      border-radius: 50%;\n",
              "      cursor: pointer;\n",
              "      display: none;\n",
              "      fill: #1967D2;\n",
              "      height: 32px;\n",
              "      padding: 0 0 0 0;\n",
              "      width: 32px;\n",
              "    }\n",
              "\n",
              "    .colab-df-convert:hover {\n",
              "      background-color: #E2EBFA;\n",
              "      box-shadow: 0px 1px 2px rgba(60, 64, 67, 0.3), 0px 1px 3px 1px rgba(60, 64, 67, 0.15);\n",
              "      fill: #174EA6;\n",
              "    }\n",
              "\n",
              "    .colab-df-buttons div {\n",
              "      margin-bottom: 4px;\n",
              "    }\n",
              "\n",
              "    [theme=dark] .colab-df-convert {\n",
              "      background-color: #3B4455;\n",
              "      fill: #D2E3FC;\n",
              "    }\n",
              "\n",
              "    [theme=dark] .colab-df-convert:hover {\n",
              "      background-color: #434B5C;\n",
              "      box-shadow: 0px 1px 3px 1px rgba(0, 0, 0, 0.15);\n",
              "      filter: drop-shadow(0px 1px 2px rgba(0, 0, 0, 0.3));\n",
              "      fill: #FFFFFF;\n",
              "    }\n",
              "  </style>\n",
              "\n",
              "    <script>\n",
              "      const buttonEl =\n",
              "        document.querySelector('#df-bcdfbbb5-5854-4cd6-ab1a-351dd4264a38 button.colab-df-convert');\n",
              "      buttonEl.style.display =\n",
              "        google.colab.kernel.accessAllowed ? 'block' : 'none';\n",
              "\n",
              "      async function convertToInteractive(key) {\n",
              "        const element = document.querySelector('#df-bcdfbbb5-5854-4cd6-ab1a-351dd4264a38');\n",
              "        const dataTable =\n",
              "          await google.colab.kernel.invokeFunction('convertToInteractive',\n",
              "                                                    [key], {});\n",
              "        if (!dataTable) return;\n",
              "\n",
              "        const docLinkHtml = 'Like what you see? Visit the ' +\n",
              "          '<a target=\"_blank\" href=https://colab.research.google.com/notebooks/data_table.ipynb>data table notebook</a>'\n",
              "          + ' to learn more about interactive tables.';\n",
              "        element.innerHTML = '';\n",
              "        dataTable['output_type'] = 'display_data';\n",
              "        await google.colab.output.renderOutput(dataTable, element);\n",
              "        const docLink = document.createElement('div');\n",
              "        docLink.innerHTML = docLinkHtml;\n",
              "        element.appendChild(docLink);\n",
              "      }\n",
              "    </script>\n",
              "  </div>\n",
              "\n",
              "\n",
              "<div id=\"df-528404cb-4b0e-4b2f-947d-093669fc6775\">\n",
              "  <button class=\"colab-df-quickchart\" onclick=\"quickchart('df-528404cb-4b0e-4b2f-947d-093669fc6775')\"\n",
              "            title=\"Suggest charts\"\n",
              "            style=\"display:none;\">\n",
              "\n",
              "<svg xmlns=\"http://www.w3.org/2000/svg\" height=\"24px\"viewBox=\"0 0 24 24\"\n",
              "     width=\"24px\">\n",
              "    <g>\n",
              "        <path d=\"M19 3H5c-1.1 0-2 .9-2 2v14c0 1.1.9 2 2 2h14c1.1 0 2-.9 2-2V5c0-1.1-.9-2-2-2zM9 17H7v-7h2v7zm4 0h-2V7h2v10zm4 0h-2v-4h2v4z\"/>\n",
              "    </g>\n",
              "</svg>\n",
              "  </button>\n",
              "\n",
              "<style>\n",
              "  .colab-df-quickchart {\n",
              "      --bg-color: #E8F0FE;\n",
              "      --fill-color: #1967D2;\n",
              "      --hover-bg-color: #E2EBFA;\n",
              "      --hover-fill-color: #174EA6;\n",
              "      --disabled-fill-color: #AAA;\n",
              "      --disabled-bg-color: #DDD;\n",
              "  }\n",
              "\n",
              "  [theme=dark] .colab-df-quickchart {\n",
              "      --bg-color: #3B4455;\n",
              "      --fill-color: #D2E3FC;\n",
              "      --hover-bg-color: #434B5C;\n",
              "      --hover-fill-color: #FFFFFF;\n",
              "      --disabled-bg-color: #3B4455;\n",
              "      --disabled-fill-color: #666;\n",
              "  }\n",
              "\n",
              "  .colab-df-quickchart {\n",
              "    background-color: var(--bg-color);\n",
              "    border: none;\n",
              "    border-radius: 50%;\n",
              "    cursor: pointer;\n",
              "    display: none;\n",
              "    fill: var(--fill-color);\n",
              "    height: 32px;\n",
              "    padding: 0;\n",
              "    width: 32px;\n",
              "  }\n",
              "\n",
              "  .colab-df-quickchart:hover {\n",
              "    background-color: var(--hover-bg-color);\n",
              "    box-shadow: 0 1px 2px rgba(60, 64, 67, 0.3), 0 1px 3px 1px rgba(60, 64, 67, 0.15);\n",
              "    fill: var(--button-hover-fill-color);\n",
              "  }\n",
              "\n",
              "  .colab-df-quickchart-complete:disabled,\n",
              "  .colab-df-quickchart-complete:disabled:hover {\n",
              "    background-color: var(--disabled-bg-color);\n",
              "    fill: var(--disabled-fill-color);\n",
              "    box-shadow: none;\n",
              "  }\n",
              "\n",
              "  .colab-df-spinner {\n",
              "    border: 2px solid var(--fill-color);\n",
              "    border-color: transparent;\n",
              "    border-bottom-color: var(--fill-color);\n",
              "    animation:\n",
              "      spin 1s steps(1) infinite;\n",
              "  }\n",
              "\n",
              "  @keyframes spin {\n",
              "    0% {\n",
              "      border-color: transparent;\n",
              "      border-bottom-color: var(--fill-color);\n",
              "      border-left-color: var(--fill-color);\n",
              "    }\n",
              "    20% {\n",
              "      border-color: transparent;\n",
              "      border-left-color: var(--fill-color);\n",
              "      border-top-color: var(--fill-color);\n",
              "    }\n",
              "    30% {\n",
              "      border-color: transparent;\n",
              "      border-left-color: var(--fill-color);\n",
              "      border-top-color: var(--fill-color);\n",
              "      border-right-color: var(--fill-color);\n",
              "    }\n",
              "    40% {\n",
              "      border-color: transparent;\n",
              "      border-right-color: var(--fill-color);\n",
              "      border-top-color: var(--fill-color);\n",
              "    }\n",
              "    60% {\n",
              "      border-color: transparent;\n",
              "      border-right-color: var(--fill-color);\n",
              "    }\n",
              "    80% {\n",
              "      border-color: transparent;\n",
              "      border-right-color: var(--fill-color);\n",
              "      border-bottom-color: var(--fill-color);\n",
              "    }\n",
              "    90% {\n",
              "      border-color: transparent;\n",
              "      border-bottom-color: var(--fill-color);\n",
              "    }\n",
              "  }\n",
              "</style>\n",
              "\n",
              "  <script>\n",
              "    async function quickchart(key) {\n",
              "      const quickchartButtonEl =\n",
              "        document.querySelector('#' + key + ' button');\n",
              "      quickchartButtonEl.disabled = true;  // To prevent multiple clicks.\n",
              "      quickchartButtonEl.classList.add('colab-df-spinner');\n",
              "      try {\n",
              "        const charts = await google.colab.kernel.invokeFunction(\n",
              "            'suggestCharts', [key], {});\n",
              "      } catch (error) {\n",
              "        console.error('Error during call to suggestCharts:', error);\n",
              "      }\n",
              "      quickchartButtonEl.classList.remove('colab-df-spinner');\n",
              "      quickchartButtonEl.classList.add('colab-df-quickchart-complete');\n",
              "    }\n",
              "    (() => {\n",
              "      let quickchartButtonEl =\n",
              "        document.querySelector('#df-528404cb-4b0e-4b2f-947d-093669fc6775 button');\n",
              "      quickchartButtonEl.style.display =\n",
              "        google.colab.kernel.accessAllowed ? 'block' : 'none';\n",
              "    })();\n",
              "  </script>\n",
              "</div>\n",
              "\n",
              "    </div>\n",
              "  </div>\n"
            ],
            "application/vnd.google.colaboratory.intrinsic+json": {
              "type": "dataframe",
              "variable_name": "daily_returns",
              "summary": "{\n  \"name\": \"daily_returns\",\n  \"rows\": 500,\n  \"fields\": [\n    {\n      \"column\": \"Date\",\n      \"properties\": {\n        \"dtype\": \"date\",\n        \"min\": \"2022-01-04 00:00:00\",\n        \"max\": \"2023-12-29 00:00:00\",\n        \"num_unique_values\": 500,\n        \"samples\": [\n          \"2023-06-13 00:00:00\",\n          \"2022-04-20 00:00:00\",\n          \"2023-07-03 00:00:00\"\n        ],\n        \"semantic_type\": \"\",\n        \"description\": \"\"\n      }\n    },\n    {\n      \"column\": \"AAPL\",\n      \"properties\": {\n        \"dtype\": \"number\",\n        \"std\": 0.018315882705562534,\n        \"min\": -0.05867974099182127,\n        \"max\": 0.08897466916218977,\n        \"num_unique_values\": 499,\n        \"samples\": [\n          -0.005181041048431423,\n          -0.0010154760509580862,\n          -0.007982918977160192\n        ],\n        \"semantic_type\": \"\",\n        \"description\": \"\"\n      }\n    },\n    {\n      \"column\": \"GOOG\",\n      \"properties\": {\n        \"dtype\": \"number\",\n        \"std\": 0.022072563214633367,\n        \"min\": -0.09634997050463567,\n        \"max\": 0.07745988000005588,\n        \"num_unique_values\": 500,\n        \"samples\": [\n          0.0006433551468443266,\n          -0.017509218519522363,\n          -0.0033893056952446488\n        ],\n        \"semantic_type\": \"\",\n        \"description\": \"\"\n      }\n    },\n    {\n      \"column\": \"NVDA\",\n      \"properties\": {\n        \"dtype\": \"number\",\n        \"std\": 0.035657076037763566,\n        \"min\": -0.0947260643548069,\n        \"max\": 0.24369631858619645,\n        \"num_unique_values\": 500,\n        \"samples\": [\n          0.03900512154784552,\n          -0.03225518636284008,\n          0.0026240549252851686\n        ],\n        \"semantic_type\": \"\",\n        \"description\": \"\"\n      }\n    }\n  ]\n}"
            }
          },
          "metadata": {},
          "execution_count": 131
        }
      ],
      "source": [
        "daily_returns = prices.pct_change().dropna()\n",
        "mu = expected_returns.mean_historical_return(prices)\n",
        "daily_returns.head()"
      ]
    },
    {
      "cell_type": "code",
      "execution_count": 132,
      "metadata": {
        "id": "ICA6fzVP3K5B"
      },
      "outputs": [],
      "source": [
        "def deviation_risk_parity(w, cov_matrix):\n",
        "    diff = w * np.dot(cov_matrix, w) - (w * np.dot(cov_matrix, w)).reshape(-1, 1)\n",
        "    return (diff**2).sum().sum()"
      ]
    },
    {
      "cell_type": "code",
      "execution_count": 133,
      "metadata": {
        "colab": {
          "base_uri": "https://localhost:8080/"
        },
        "id": "h1NIOq9L1SqB",
        "outputId": "ff0f59d2-7d52-4a57-e35c-82d7135d7f4f"
      },
      "outputs": [
        {
          "output_type": "stream",
          "name": "stdout",
          "text": [
            "Expected annual return: 7.3%\n",
            "Annual volatility: 32.8%\n",
            "Sharpe Ratio: 0.16\n"
          ]
        },
        {
          "output_type": "execute_result",
          "data": {
            "text/plain": [
              "(0.07329607730191244, 0.32753408786396854, 0.16271917726025317)"
            ]
          },
          "metadata": {},
          "execution_count": 133
        }
      ],
      "source": [
        "ef = EfficientFrontier(mu, S)\n",
        "weights = ef.nonconvex_objective(deviation_risk_parity, ef.cov_matrix)\n",
        "ef.portfolio_performance(verbose=True)"
      ]
    },
    {
      "cell_type": "markdown",
      "metadata": {
        "id": "HVP7jY-o3QUO"
      },
      "source": [
        "**Black-Litterman**"
      ]
    },
    {
      "cell_type": "code",
      "execution_count": 134,
      "metadata": {
        "colab": {
          "base_uri": "https://localhost:8080/"
        },
        "id": "SGX00kO63Oh5",
        "outputId": "a6728941-7284-4cea-8eab-6fe34283b608"
      },
      "outputs": [
        {
          "output_type": "execute_result",
          "data": {
            "text/plain": [
              "{'NVDA': 1217999856371.7188,\n",
              " 'AAPL': 2916179388266.2188,\n",
              " 'GOOG': 786199356988.0469}"
            ]
          },
          "metadata": {},
          "execution_count": 134
        }
      ],
      "source": [
        "mcaps = {}\n",
        "for t in tickers:\n",
        "    stock = yf.Ticker(t)\n",
        "    shares_outstanding = stock.info.get('sharesOutstanding')\n",
        "    marketCap=stock.history(start=\"2023-12-29\", end=\"2024-03-31\")['Close'].values[0] * shares_outstanding\n",
        "    mcaps[t] = marketCap\n",
        "mcaps"
      ]
    },
    {
      "cell_type": "code",
      "execution_count": 135,
      "metadata": {
        "id": "BDxFix5S3Okg"
      },
      "outputs": [],
      "source": [
        "prior = black_litterman.market_implied_prior_returns(mcaps, delta, S)"
      ]
    },
    {
      "cell_type": "code",
      "execution_count": 143,
      "metadata": {
        "colab": {
          "base_uri": "https://localhost:8080/"
        },
        "id": "mP06HXzE3Om-",
        "outputId": "acf29bbe-59f3-435c-93f9-850912fde141"
      },
      "outputs": [
        {
          "output_type": "stream",
          "name": "stdout",
          "text": [
            "OrderedDict([('AAPL', 0.13221), ('GOOG', 0.20736), ('NVDA', 0.66043)])\n",
            "Expected annual return: 31.2%\n",
            "Annual volatility: 44.9%\n",
            "Sharpe Ratio: 0.65\n"
          ]
        },
        {
          "output_type": "execute_result",
          "data": {
            "text/plain": [
              "(0.3122209625707867, 0.4485883929196987, 0.6514233698041688)"
            ]
          },
          "metadata": {},
          "execution_count": 143
        }
      ],
      "source": [
        "#linear_regression_returns_viewDict\n",
        "#rf_returns_viewDict\n",
        "#xg_returns_viewDict\n",
        "bl = BlackLittermanModel(S, pi=prior, absolute_views=xg_returns_viewDict, view_confidences=xg_confidences)\n",
        "rets = bl.bl_returns()\n",
        "ef = EfficientFrontier(rets, S)\n",
        "ef.max_sharpe()\n",
        "print(ef.clean_weights())\n",
        "predicted_features=ef.portfolio_performance(verbose=True)\n",
        "predicted_features"
      ]
    },
    {
      "cell_type": "markdown",
      "metadata": {
        "id": "UM3wdHgk-fPQ"
      },
      "source": [
        "### Validation"
      ]
    },
    {
      "cell_type": "code",
      "execution_count": 144,
      "metadata": {
        "id": "7M_HOqAS-fPQ"
      },
      "outputs": [],
      "source": [
        "# use wights from the model to calculate the actual annual returns\n",
        "weights = ef.clean_weights()\n",
        "weights = np.array(list(weights.values()))"
      ]
    },
    {
      "cell_type": "code",
      "execution_count": 145,
      "metadata": {
        "id": "N1lQjbCU-fPR",
        "outputId": "7741a367-676b-4df1-bb7a-e2ddca0b26f9",
        "colab": {
          "base_uri": "https://localhost:8080/"
        }
      },
      "outputs": [
        {
          "output_type": "stream",
          "name": "stdout",
          "text": [
            "Portfolio Return: 0.7259\n",
            "Portfolio Volatility: 0.2131\n",
            "Sharpe Ratio for the portfolio: 3.31\n"
          ]
        }
      ],
      "source": [
        "# use wights from the model to calculate the actual annual volatility and sharpe ratio\n",
        "actual_returns, actual_volatility, actual_sharpe_ratio = calculate_sharpe_ratio_portfolio(returns[-100:], weights, 0.02)\n",
        "print(f\"Portfolio Return: {actual_returns:.4f}\")\n",
        "print(f\"Portfolio Volatility: {actual_volatility:.4f}\")\n",
        "print(f\"Sharpe Ratio for the portfolio: {actual_sharpe_ratio:.2f}\")"
      ]
    },
    {
      "cell_type": "code",
      "execution_count": 146,
      "metadata": {
        "id": "sEuduCAn-fPR",
        "outputId": "61c8a820-8b4e-4f9f-b01b-555e7075f15f",
        "colab": {
          "base_uri": "https://localhost:8080/"
        }
      },
      "outputs": [
        {
          "output_type": "execute_result",
          "data": {
            "text/plain": [
              "array([ 0.41366327, -0.2355333 ,  2.66173012])"
            ]
          },
          "metadata": {},
          "execution_count": 146
        }
      ],
      "source": [
        "# compare the actual features with the predictied features\n",
        "distance = np.array([actual_returns, actual_volatility, actual_sharpe_ratio]) - predicted_features\n",
        "distance"
      ]
    },
    {
      "cell_type": "markdown",
      "source": [
        "**Linear Regression:**\n",
        "\n",
        "Actual:\n",
        "\n",
        "Portfolio Return: 0.3456\n",
        "Portfolio Volatility: 0.2109\n",
        "Sharpe Ratio for the portfolio: 1.54\n",
        "\n",
        "\n",
        "Predicted:\n",
        "\n",
        "Expected annual return: 3.4%\n",
        "Annual volatility: 46.4%\n",
        "Sharpe Ratio: 0.03\n",
        "\n",
        "Distance:\n",
        "[ 0.3113046 , -0.25333506,  1.51283327]\n",
        "\n",
        "**Random Forest:**\n",
        "\n",
        "Actual:\n",
        "\n",
        "Portfolio Return: 0.5819\n",
        "Portfolio Volatility: 0.2560\n",
        "Sharpe Ratio for the portfolio: 2.19\n",
        "\n",
        "\n",
        "\n",
        "Predicted:\n",
        "\n",
        "Expected annual return: 4.0%\n",
        "Annual volatility: 56.3%\n",
        "Sharpe Ratio: 0.03\n",
        "\n",
        "Distance:\n",
        "\n",
        "[ 0.3113046 , -0.25333506,  1.51283327]\n",
        "\n",
        "\n",
        "**XGBoost:**\n",
        "\n",
        "Actual:\n",
        "\n",
        "Portfolio Return: 0.7259\n",
        "Portfolio Volatility: 0.2131\n",
        "Sharpe Ratio for the portfolio: 3.31\n",
        "\n",
        "Predicted:\n",
        "\n",
        "Expected annual return: 31.2%\n",
        "Annual volatility: 44.9%\n",
        "Sharpe Ratio: 0.65\n",
        "\n",
        "Distance:\n",
        "\n",
        "[ 0.41366327, -0.2355333 ,  2.66173012]\n",
        "\n"
      ],
      "metadata": {
        "id": "XgieOHtPAvxG"
      }
    },
    {
      "cell_type": "markdown",
      "metadata": {
        "id": "BCrKgLHD5nnt"
      },
      "source": [
        "**Hierarchical risk parity**"
      ]
    },
    {
      "cell_type": "code",
      "execution_count": 25,
      "metadata": {
        "colab": {
          "base_uri": "https://localhost:8080/",
          "height": 631
        },
        "id": "_f48sVvr1Ssd",
        "outputId": "db648bff-19a6-4f3b-e6ae-7e5b4241678d"
      },
      "outputs": [
        {
          "output_type": "stream",
          "name": "stdout",
          "text": [
            "Expected annual return: 7.2%\n",
            "Annual volatility: 33.6%\n",
            "Sharpe Ratio: 0.16\n",
            "OrderedDict([('BN', 0.7063331911408421), ('ENPH', 0.11260488652787708), ('FSLR', 0.1810619223312808)])\n"
          ]
        },
        {
          "output_type": "stream",
          "name": "stderr",
          "text": [
            "/usr/local/lib/python3.10/dist-packages/pypfopt/hierarchical_portfolio.py:138: FutureWarning: Setting an item of incompatible dtype is deprecated and will raise in a future error of pandas. Value '[0.70633319]' has dtype incompatible with int64, please explicitly cast to a compatible dtype first.\n",
            "  w[first_cluster] *= alpha  # weight 1\n"
          ]
        },
        {
          "output_type": "execute_result",
          "data": {
            "text/plain": [
              "<Axes: >"
            ]
          },
          "metadata": {},
          "execution_count": 25
        },
        {
          "output_type": "display_data",
          "data": {
            "text/plain": [
              "<Figure size 640x480 with 1 Axes>"
            ],
            "image/png": "[encoded data removed]"
          },
          "metadata": {}
        }
      ],
      "source": [
        "hrp = HRPOpt(daily_returns)\n",
        "weights = hrp.optimize()\n",
        "hrp.portfolio_performance(verbose=True)\n",
        "print(weights)\n",
        "\n",
        "import pypfopt.plotting as plotting\n",
        "plotting.plot_dendrogram(hrp)  # to plot dendrogram"
      ]
    },
    {
      "cell_type": "code",
      "execution_count": null,
      "metadata": {
        "id": "0h-fo_626GNj"
      },
      "outputs": [],
      "source": [
        "cla = CLA(mu, S)\n",
        "print(cla.max_sharpe())\n",
        "cla.portfolio_performance(verbose=True)\n",
        "plotting.plot_efficient_frontier(cla)  # to plot"
      ]
    },
    {
      "cell_type": "markdown",
      "metadata": {
        "id": "u16Tjq8C6dfz"
      },
      "source": [
        "# Summary"
      ]
    },
    {
      "cell_type": "code",
      "execution_count": null,
      "metadata": {
        "id": "sLCM4kMV6c1-"
      },
      "outputs": [],
      "source": [
        "%matplotlib inline\n",
        "%load_ext autoreload\n",
        "%autoreload 2\n",
        "%config InlineBackend.figure_format = 'svg'\n",
        "\n",
        "import numpy as np\n",
        "import pandas as pd\n",
        "import seaborn as sns\n",
        "import datetime as dt\n",
        "import matplotlib.pyplot as plt\n",
        "\n",
        "import universal as up\n",
        "from universal import tools, algos\n",
        "from universal.algos import *\n",
        "\n",
        "sns.set_context(\"notebook\")\n",
        "plt.rcParams[\"figure.figsize\"] = (16, 8)"
      ]
    },
    {
      "cell_type": "code",
      "execution_count": null,
      "metadata": {
        "id": "jMi-7_oznI0J"
      },
      "outputs": [],
      "source": [
        "# Prepare data for visualizations\n",
        "'''\n",
        "model_names = ['Linear Regression', 'Random Forest', 'XGBoost']\n",
        "company_names = ['Company 1', 'Company 2', 'Company 3']\n",
        "\n",
        "# Box Plots\n",
        "\n",
        "for i in range(n_companies):\n",
        "    plt.figure(figsize=(14, 7))\n",
        "    data = [predicted_returns[i][model_name] for model_name in model_names]\n",
        "    plt.boxplot(data, labels=model_names)\n",
        "    plt.title(f'Box Plot of Predicted Returns for {company_names[i]}')\n",
        "    plt.ylabel('Expected Return')\n",
        "    plt.show()\n",
        "\n",
        "# Line Plots for Actual vs. Predicted Returns\n",
        "for i, (X_train, X_test, y_train, y_test) in enumerate(data_splits):\n",
        "    predictions = predicted_returns[i]\n",
        "\n",
        "    plt.figure(figsize=(14, 7))\n",
        "    plt.plot(y_test.index, y_test, label='Actual Returns', color='blue')\n",
        "    plt.plot(y_test.index, predictions['Linear Regression'], label='Predicted Returns - Linear Regression', color='red')\n",
        "    plt.plot(y_test.index, predictions['Random Forest'], label='Predicted Returns - Random Forest', color='green')\n",
        "    plt.plot(y_test.index, predictions['XGBoost'], label='Predicted Returns - XGBoost', color='orange')\n",
        "    plt.title(f'Actual vs Predicted Returns for {company_names[i]}')\n",
        "    plt.xlabel('Date')\n",
        "    plt.ylabel('Returns')\n",
        "    plt.legend()\n",
        "    plt.show()\n",
        "\n",
        "# Scatter Plots for Actual vs. Predicted Returns\n",
        "for i, (X_train, X_test, y_train, y_test) in enumerate(data_splits):\n",
        "    predictions = predicted_returns[i]\n",
        "\n",
        "    plt.figure(figsize=(14, 7))\n",
        "    plt.scatter(y_test, predictions['Linear Regression'], label='Linear Regression', color='red')\n",
        "    plt.scatter(y_test, predictions['Random Forest'], label='Random Forest', color='green')\n",
        "    plt.scatter(y_test, predictions['XGBoost'], label='XGBoost', color='orange')\n",
        "    plt.plot([y_test.min(), y_test.max()], [y_test.min(), y_test.max()], 'k--', lw=2)\n",
        "    plt.title(f'Scatter Plot of Actual vs Predicted Returns for {company_names[i]}')\n",
        "    plt.xlabel('Actual Returns')\n",
        "    plt.ylabel('Predicted Returns')\n",
        "    plt.legend()\n",
        "    plt.show()\n",
        "'''"
      ]
    },
    {
      "cell_type": "code",
      "execution_count": null,
      "metadata": {
        "id": "kF85o2DncL6a"
      },
      "outputs": [],
      "source": [
        "\n",
        "print(\"\\nConfidence Intervals Matrix (95% CI):\")\n",
        "print(confidence_intervals_matrix)\n",
        "\n",
        "# Prepare data for visualizations\n",
        "model_names = ['Linear Regression', 'Random Forest', 'XGBoost']\n",
        "company_names = ['Company 1', 'Company 2', 'Company 3']\n",
        "\n",
        "# Plot predicted returns with confidence intervals\n",
        "for i in range(n_companies):\n",
        "    plt.figure(figsize=(14, 7))\n",
        "    for j in range(n_models):\n",
        "        plt.errorbar(j, returns_matrix[i, j],\n",
        "                     yerr=[[returns_matrix[i, j] - confidence_intervals_matrix[i, j, 0]], [confidence_intervals_matrix[i, j, 1] - returns_matrix[i, j]]],\n",
        "                     fmt='o', capsize=5, label=f'{model_names[j]} Mean Return')\n",
        "    plt.title(f'Returns and Confidence Intervals for {company_names[i]}')\n",
        "    plt.xlabel('Model')\n",
        "    plt.ylabel('Expected Return')\n",
        "    plt.xticks(range(n_models), model_names)\n",
        "    plt.legend()\n",
        "    plt.show()"
      ]
    },
    {
      "cell_type": "code",
      "execution_count": null,
      "metadata": {
        "id": "fnMr7G9ScZ8X"
      },
      "outputs": [],
      "source": [
        "import seaborn as sns\n",
        "\n",
        "for i in range(n_companies):\n",
        "    plt.figure(figsize=(14, 7))\n",
        "    for model_name in model_names:\n",
        "        sns.kdeplot(predicted_returns[i][model_name], label=model_name)\n",
        "    plt.title(f'Density Plot of Predicted Returns for {company_names[i]}')\n",
        "    plt.xlabel('Expected Return')\n",
        "    plt.ylabel('Density')\n",
        "    plt.legend()\n",
        "    plt.show()"
      ]
    },
    {
      "cell_type": "code",
      "execution_count": null,
      "metadata": {
        "id": "KIJYMwj5aTmq"
      },
      "outputs": [],
      "source": [
        "model_names = ['Linear Regression', 'Random Forest', 'XGBoost']\n",
        "company_names = ['Company 1', 'Company 2', 'Company 3']\n",
        "\n",
        "for i in range(n_companies):\n",
        "    plt.figure(figsize=(14, 7))\n",
        "    for j in range(n_models):\n",
        "        plt.bar(j, returns_matrix[i, j], label=f'{model_names[j]} Mean Return')\n",
        "    plt.title(f'Predicted Returns for {company_names[i]}')\n",
        "    plt.xlabel('Model')\n",
        "    plt.ylabel('Expected Return')\n",
        "    plt.xticks(range(n_models), model_names)\n",
        "    plt.legend()\n",
        "    plt.show()"
      ]
    },
    {
      "cell_type": "code",
      "execution_count": null,
      "metadata": {
        "id": "f7yhwS2la26C"
      },
      "outputs": [],
      "source": [
        "for i, (X_train, X_test, y_train, y_test) in enumerate(data_splits):\n",
        "    predictions = train_and_predict(X_train, y_train, X_test)\n",
        "\n",
        "    plt.figure(figsize=(14, 7))\n",
        "    plt.plot(y_test.index, y_test, label='Actual Returns', color='blue')\n",
        "    plt.plot(y_test.index, predictions['LinearRegression'], label='Predicted Returns - Linear Regression', color='red')\n",
        "    plt.plot(y_test.index, predictions['RandomForest'], label='Predicted Returns - Random Forest', color='green')\n",
        "    plt.plot(y_test.index, predictions['XGBoost'], label='Predicted Returns - XGBoost', color='orange')\n",
        "    plt.title(f'Actual vs Predicted Returns for {company_names[i]}')\n",
        "    plt.xlabel('Date')\n",
        "    plt.ylabel('Returns')\n",
        "    plt.legend()\n",
        "    plt.show()"
      ]
    }
  ],
  "metadata": {
    "colab": {
      "provenance": []
    },
    "kernelspec": {
      "display_name": "Python 3",
      "name": "python3"
    },
    "language_info": {
      "codemirror_mode": {
        "name": "ipython",
        "version": 3
      },
      "file_extension": ".py",
      "mimetype": "text/x-python",
      "name": "python",
      "nbconvert_exporter": "python",
      "pygments_lexer": "ipython3",
      "version": "3.10.14"
    }
  },
  "nbformat": 4,
  "nbformat_minor": 0
}
