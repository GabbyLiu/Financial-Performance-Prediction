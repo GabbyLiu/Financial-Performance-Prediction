{
  "cells": [
    {
      "cell_type": "markdown",
      "metadata": {
        "id": "GGp5RuW61IXb"
      },
      "source": [
        "# Return Prediction for View and Uncertainty Matrix"
      ]
    },
    {
      "cell_type": "code",
      "execution_count": 44,
      "metadata": {
        "colab": {
          "base_uri": "https://localhost:8080/"
        },
        "collapsed": true,
        "id": "fxxiNrelbrQS",
        "outputId": "a89cfa24-5905-4072-8ebd-966a83cac972"
      },
      "outputs": [
        {
          "name": "stderr",
          "output_type": "stream",
          "text": [
            "[*********************100%%**********************]  1 of 1 completed\n",
            "[*********************100%%**********************]  1 of 1 completed\n",
            "[*********************100%%**********************]  1 of 1 completed\n",
            "/var/folders/vd/9kcn23rn04n26pd2r2yhmvy40000gn/T/ipykernel_97495/3395614812.py:16: SettingWithCopyWarning: \n",
            "A value is trying to be set on a copy of a slice from a DataFrame.\n",
            "Try using .loc[row_indexer,col_indexer] = value instead\n",
            "\n",
            "See the caveats in the documentation: https://pandas.pydata.org/pandas-docs/stable/user_guide/indexing.html#returning-a-view-versus-a-copy\n",
            "  df['SMA_5'] = df['Adj Close'].rolling(window=5).mean()\n",
            "/var/folders/vd/9kcn23rn04n26pd2r2yhmvy40000gn/T/ipykernel_97495/3395614812.py:17: SettingWithCopyWarning: \n",
            "A value is trying to be set on a copy of a slice from a DataFrame.\n",
            "Try using .loc[row_indexer,col_indexer] = value instead\n",
            "\n",
            "See the caveats in the documentation: https://pandas.pydata.org/pandas-docs/stable/user_guide/indexing.html#returning-a-view-versus-a-copy\n",
            "  df['SMA_200'] = df['Adj Close'].rolling(window=200).mean()\n",
            "/var/folders/vd/9kcn23rn04n26pd2r2yhmvy40000gn/T/ipykernel_97495/3395614812.py:16: SettingWithCopyWarning: \n",
            "A value is trying to be set on a copy of a slice from a DataFrame.\n",
            "Try using .loc[row_indexer,col_indexer] = value instead\n",
            "\n",
            "See the caveats in the documentation: https://pandas.pydata.org/pandas-docs/stable/user_guide/indexing.html#returning-a-view-versus-a-copy\n",
            "  df['SMA_5'] = df['Adj Close'].rolling(window=5).mean()\n",
            "/var/folders/vd/9kcn23rn04n26pd2r2yhmvy40000gn/T/ipykernel_97495/3395614812.py:17: SettingWithCopyWarning: \n",
            "A value is trying to be set on a copy of a slice from a DataFrame.\n",
            "Try using .loc[row_indexer,col_indexer] = value instead\n",
            "\n",
            "See the caveats in the documentation: https://pandas.pydata.org/pandas-docs/stable/user_guide/indexing.html#returning-a-view-versus-a-copy\n",
            "  df['SMA_200'] = df['Adj Close'].rolling(window=200).mean()\n",
            "/var/folders/vd/9kcn23rn04n26pd2r2yhmvy40000gn/T/ipykernel_97495/3395614812.py:16: SettingWithCopyWarning: \n",
            "A value is trying to be set on a copy of a slice from a DataFrame.\n",
            "Try using .loc[row_indexer,col_indexer] = value instead\n",
            "\n",
            "See the caveats in the documentation: https://pandas.pydata.org/pandas-docs/stable/user_guide/indexing.html#returning-a-view-versus-a-copy\n",
            "  df['SMA_5'] = df['Adj Close'].rolling(window=5).mean()\n",
            "/var/folders/vd/9kcn23rn04n26pd2r2yhmvy40000gn/T/ipykernel_97495/3395614812.py:17: SettingWithCopyWarning: \n",
            "A value is trying to be set on a copy of a slice from a DataFrame.\n",
            "Try using .loc[row_indexer,col_indexer] = value instead\n",
            "\n",
            "See the caveats in the documentation: https://pandas.pydata.org/pandas-docs/stable/user_guide/indexing.html#returning-a-view-versus-a-copy\n",
            "  df['SMA_200'] = df['Adj Close'].rolling(window=200).mean()\n"
          ]
        }
      ],
      "source": [
        "import pandas as pd\n",
        "import numpy as np\n",
        "from sklearn.ensemble import RandomForestRegressor\n",
        "from sklearn.linear_model import LinearRegression\n",
        "# import xgboost as xgb\n",
        "from sklearn.preprocessing import StandardScaler\n",
        "import matplotlib.pyplot as plt\n",
        "import yfinance as yf\n",
        "\n",
        "# Function to preprocess data\n",
        "def preprocess_data(df):\n",
        "    df['Date'] = pd.to_datetime(df.index)\n",
        "    df.set_index('Date', inplace=True)\n",
        "    df['Future_Return'] = df['Adj Close'].shift(-100) / df['Adj Close'] - 1\n",
        "    df = df.dropna(subset=['Future_Return'])\n",
        "    df['SMA_5'] = df['Adj Close'].rolling(window=5).mean()\n",
        "    df['SMA_200'] = df['Adj Close'].rolling(window=200).mean()\n",
        "    df = df.dropna()\n",
        "    features = ['Open', 'High', 'Low', 'Adj Close', 'Volume', 'SMA_5']\n",
        "    X = df[features]\n",
        "    y = df['Future_Return']\n",
        "    # scaler = StandardScaler()\n",
        "    # X_scaled = scaler.fit_transform(X)\n",
        "    return X, y\n",
        "\n",
        "# Function to train models and perform bootstrapping\n",
        "def train_and_predict(X_train, y_train, X_test, n_iterations=100):\n",
        "    models = {\n",
        "        'Linear Regression': LinearRegression(),\n",
        "        'Random Forest': RandomForestRegressor(n_estimators=100, random_state=42),\n",
        "        # 'XGBoost': xgb.XGBRegressor(objective='reg:squarederror', colsample_bytree=0.3, learning_rate=0.1, max_depth=5, alpha=10, n_estimators=100)\n",
        "    }\n",
        "    predictions = {}\n",
        "\n",
        "    for model_name, model in models.items():\n",
        "        model.fit(X_train, y_train)\n",
        "        preds = np.zeros((n_iterations, X_test.shape[0]))\n",
        "        for i in range(n_iterations):\n",
        "            preds[i] = model.predict(X_test)\n",
        "        predictions[model_name] = preds.mean(axis=0)\n",
        "\n",
        "    return predictions\n",
        "\n",
        "# Load data for three companies\n",
        "tickers = ['BN', 'ENPH', 'FSLR']  # Example tickers for Apple, Google, and Microsoft\n",
        "\n",
        "# Download historical data for each stock\n",
        "companies_data = []\n",
        "for ticker in tickers:\n",
        "    companies_data.append(yf.download(ticker, start=\"2021-12-31\", end=\"2024-03-31\"))\n",
        "\n",
        "# Preprocess data and split into training and testing sets\n",
        "data_splits = []\n",
        "for df in companies_data:\n",
        "    X, y = preprocess_data(df)\n",
        "    train_size = int(len(X) - 100)\n",
        "    data_splits.append((X[:train_size], X[train_size:], y[:train_size], y[train_size:]))\n",
        "\n",
        "# Initialize matrices to store results\n",
        "n_companies = len(companies_data)\n",
        "n_models = 3\n",
        "returns_matrix = np.zeros((n_companies, n_models))\n",
        "confidence_intervals_matrix = np.zeros((n_companies, n_models, 2))  # lower and upper bounds\n",
        "uncertainty_matrix = np.zeros((n_companies, n_models))\n",
        "\n",
        "# Train models and calculate predictions\n",
        "predicted_returns = []\n",
        "for i, (X_train, X_test, y_train, y_test) in enumerate(data_splits):\n",
        "    predictions = train_and_predict(X_train, y_train, X_test)\n",
        "    uncertainties = train_and_predict(X_train, y_train, X_test)\n",
        "    predicted_returns.append(predictions)\n",
        "\n",
        "    # Store predictions\n",
        "    returns_matrix[i, 0] = predictions['Linear Regression'].mean()\n",
        "    returns_matrix[i, 1] = predictions['Random Forest'].mean()\n",
        "    # returns_matrix[i, 2] = predictions['XGBoost'].mean()\n",
        "\n",
        "    # Store confidence intervals (95% CI)\n",
        "    confidence_intervals_matrix[i, 0, 0] = predictions['Linear Regression'].mean() - 1.96 * uncertainties['Linear Regression'].mean()\n",
        "    confidence_intervals_matrix[i, 0, 1] = predictions['Linear Regression'].mean() + 1.96 * uncertainties['Linear Regression'].mean()\n",
        "    confidence_intervals_matrix[i, 1, 0] = predictions['Random Forest'].mean() - 1.96 * uncertainties['Random Forest'].mean()\n",
        "    confidence_intervals_matrix[i, 1, 1] = predictions['Random Forest'].mean() + 1.96 * uncertainties['Random Forest'].mean()\n",
        "    # confidence_intervals_matrix[i, 2, 0] = predictions['XGBoost'].mean() - 1.96 * uncertainties['XGBoost'].mean()\n",
        "    # confidence_intervals_matrix[i, 2, 1] = predictions['XGBoost'].mean() + 1.96 * uncertainties['XGBoost'].mean()\n",
        "\n",
        "    # Calculate uncertainty as the width of the confidence interval\n",
        "    uncertainty_matrix[i, 0] = confidence_intervals_matrix[i, 0, 1] - confidence_intervals_matrix[i, 0, 0]\n",
        "    uncertainty_matrix[i, 1] = confidence_intervals_matrix[i, 1, 1] - confidence_intervals_matrix[i, 1, 0]\n",
        "    # uncertainty_matrix[i, 2] = confidence_intervals_matrix[i, 2, 1] - confidence_intervals_matrix[i, 2, 0]"
      ]
    },
    {
      "cell_type": "code",
      "execution_count": 45,
      "metadata": {
        "colab": {
          "base_uri": "https://localhost:8080/"
        },
        "id": "ytAs9hW5UteQ",
        "outputId": "8e80686f-d8d2-4ed0-ea4b-7930633b680d"
      },
      "outputs": [
        {
          "name": "stderr",
          "output_type": "stream",
          "text": [
            "[*********************100%%**********************]  1 of 1 completed\n",
            "[*********************100%%**********************]  1 of 1 completed\n",
            "[*********************100%%**********************]  1 of 1 completed"
          ]
        },
        {
          "name": "stdout",
          "output_type": "stream",
          "text": [
            "              BN_Open   BN_Close   ENPH_Open  ENPH_Close  FSLR_Open  \\\n",
            "Date                                                                  \n",
            "2021-12-31  48.932903  47.675674  186.899994  182.940002  87.500000   \n",
            "2022-01-03  48.811642  47.336151  185.229996  184.449997  88.010002   \n",
            "2022-01-04  48.504444  47.786213  187.589996  178.279999  91.199997   \n",
            "2022-01-05  49.094585  45.622726  174.559998  157.199997  87.300003   \n",
            "2022-01-06  46.685532  45.441124  156.009995  151.490005  83.010002   \n",
            "\n",
            "            FSLR_Close  RiskFreeRate  \n",
            "Date                                  \n",
            "2021-12-31   87.160004          0.02  \n",
            "2022-01-03   88.580002          0.02  \n",
            "2022-01-04   87.279999          0.02  \n",
            "2022-01-05   83.510002          0.02  \n",
            "2022-01-06   83.970001          0.02  \n"
          ]
        },
        {
          "name": "stderr",
          "output_type": "stream",
          "text": [
            "\n"
          ]
        }
      ],
      "source": [
        "import yfinance as yf\n",
        "import pandas as pd\n",
        "\n",
        "# Define the stock tickers\n",
        "tickers = ['BN', 'ENPH', 'FSLR']  # Example tickers for Apple, Google, and Microsoft\n",
        "\n",
        "# Download historical data for each stock\n",
        "data = {}\n",
        "for ticker in tickers:\n",
        "    data[ticker] = yf.download(ticker, start=\"2021-12-31\", end=\"2024-03-31\")[['Open', 'Adj Close']]\n",
        "\n",
        "# Combine the data into a single DataFrame\n",
        "df_combined = pd.DataFrame()\n",
        "for ticker in tickers:\n",
        "    df_temp = data[ticker].copy()\n",
        "    df_temp.columns = [f'{ticker}_Open', f'{ticker}_Close']\n",
        "    df_combined = pd.merge(df_combined, df_temp, left_index=True, right_index=True, how='outer')\n",
        "\n",
        "# Add a sample risk-free rate (e.g., 1% per year, constant)\n",
        "df_combined['RiskFreeRate'] = 0.02\n",
        "\n",
        "# Save the combined DataFrame to a CSV file\n",
        "df_combined.to_csv('combined_stock_data.csv')\n",
        "\n",
        "# Display the combined DataFrame\n",
        "print(df_combined.head())"
      ]
    },
    {
      "cell_type": "code",
      "execution_count": 46,
      "metadata": {
        "colab": {
          "base_uri": "https://localhost:8080/"
        },
        "id": "HlI7K7uuVs97",
        "outputId": "773cbf7d-889b-49bb-9d9b-32b34f92ec67"
      },
      "outputs": [
        {
          "name": "stdout",
          "output_type": "stream",
          "text": [
            "              BN_Open   BN_Close   ENPH_Open  ENPH_Close  FSLR_Open  \\\n",
            "Date                                                                  \n",
            "2022-01-03  48.811642  47.336151  185.229996  184.449997  88.010002   \n",
            "2022-01-04  48.504444  47.786213  187.589996  178.279999  91.199997   \n",
            "2022-01-05  49.094585  45.622726  174.559998  157.199997  87.300003   \n",
            "2022-01-06  46.685532  45.441124  156.009995  151.490005  83.010002   \n",
            "2022-01-07  46.564266  45.299000  152.110001  145.130005  83.440002   \n",
            "\n",
            "            FSLR_Close  RiskFreeRate  BN_Close_Return  ENPH_Close_Return  \\\n",
            "Date                                                                       \n",
            "2022-01-03   88.580002          0.02        -0.007122           0.008254   \n",
            "2022-01-04   87.279999          0.02         0.009508          -0.033451   \n",
            "2022-01-05   83.510002          0.02        -0.045274          -0.118241   \n",
            "2022-01-06   83.970001          0.02        -0.003981          -0.036323   \n",
            "2022-01-07   84.680000          0.02        -0.003128          -0.041983   \n",
            "\n",
            "            FSLR_Close_Return  RiskFreeRate_Return  \n",
            "Date                                                \n",
            "2022-01-03           0.016292                  0.0  \n",
            "2022-01-04          -0.014676                  0.0  \n",
            "2022-01-05          -0.043194                  0.0  \n",
            "2022-01-06           0.005508                  0.0  \n",
            "2022-01-07           0.008455                  0.0  \n"
          ]
        }
      ],
      "source": [
        "assets = ['BN_Close', 'ENPH_Close', 'FSLR_Close']\n",
        "for asset in assets:\n",
        "    df_combined[f'{asset}_Return'] = df_combined[asset].pct_change()\n",
        "# Calculate daily return for the risk-free rate\n",
        "df_combined['RiskFreeRate_Return'] = df_combined['RiskFreeRate'].pct_change()\n",
        "\n",
        "# Drop NaN values\n",
        "df_combined.dropna(inplace=True)\n",
        "\n",
        "# Select return columns\n",
        "return_columns = [f'{asset}_Return' for asset in assets]\n",
        "returns = df_combined[return_columns]\n",
        "\n",
        "print(df_combined.head())"
      ]
    },
    {
      "cell_type": "code",
      "execution_count": 47,
      "metadata": {
        "id": "lB27HT9lPk8Q"
      },
      "outputs": [],
      "source": [
        "def calculate_sharpe_ratio_portfolio(returns, weights, risk_free_rate = 0.02, periods_per_year=252):\n",
        "    \"\"\"\n",
        "    Calculate the Sharpe Ratio for a portfolio of assets.\n",
        "\n",
        "    Parameters:\n",
        "    returns (pd.DataFrame): DataFrame of daily returns of the assets.\n",
        "    weights (np.array): Array of portfolio weights.\n",
        "    risk_free_rate (float): Risk-free rate, expressed as an annualized rate.\n",
        "    periods_per_year (int): Number of periods per year (252 for daily returns).\n",
        "\n",
        "    Returns:\n",
        "    tuple: The portfolio's volatility and Sharpe Ratio.\n",
        "    \"\"\"\n",
        "    # Calculate the mean and covariance of daily returns\n",
        "    mean_returns = returns.mean()\n",
        "    cov_matrix = returns.cov()\n",
        "\n",
        "    # Calculate the portfolio return and volatility\n",
        "    portfolio_return = np.dot(weights, mean_returns) * periods_per_year\n",
        "    portfolio_volatility = np.sqrt(np.dot(weights.T, np.dot(cov_matrix, weights))) * np.sqrt(periods_per_year)\n",
        "\n",
        "    # Calculate the annualized risk-free rate per period\n",
        "    risk_free_rate_per_period = (1 + risk_free_rate) ** (1 / periods_per_year) - 1\n",
        "\n",
        "    # Calculate the excess return\n",
        "    excess_return = portfolio_return - risk_free_rate\n",
        "\n",
        "    # Calculate the Sharpe Ratio\n",
        "    sharpe_ratio = excess_return / portfolio_volatility\n",
        "\n",
        "    return portfolio_volatility, sharpe_ratio"
      ]
    },
    {
      "cell_type": "code",
      "execution_count": 48,
      "metadata": {
        "colab": {
          "base_uri": "https://localhost:8080/"
        },
        "id": "NFyXX8HpoK7b",
        "outputId": "c937f36d-f693-4a36-a85a-37b2e7ebe8e3"
      },
      "outputs": [
        {
          "name": "stdout",
          "output_type": "stream",
          "text": [
            "Returns Matrix:\n",
            "[[-0.01127247  0.00394015  0.        ]\n",
            " [-0.25380682 -0.28522631  0.        ]\n",
            " [ 0.07926764 -0.00691058  0.        ]]\n",
            "Linear Regression Returns: [-0.011272468610035294, -0.25380681804573857, 0.07926763765321836]\n",
            "Random Forest Returns: [-0.011272468610035294, -0.25380681804573857, 0.07926763765321836]\n",
            "XG Boost Returns: [-0.011272468610035294, -0.25380681804573857, 0.07926763765321836]\n"
          ]
        }
      ],
      "source": [
        "# Display results\n",
        "print(\"Returns Matrix:\")\n",
        "print(returns_matrix)\n",
        "\n",
        "linear_regression_returns = returns_matrix[:, 0].tolist()\n",
        "print(\"Linear Regression Returns:\", linear_regression_returns)\n",
        "\n",
        "random_forest_returns = returns_matrix[:, 1].tolist()\n",
        "print(\"Random Forest Returns:\", linear_regression_returns)\n",
        "\n",
        "xg_boost_returns = returns_matrix[:, 2].tolist()\n",
        "print(\"XG Boost Returns:\", linear_regression_returns)"
      ]
    },
    {
      "cell_type": "code",
      "execution_count": 49,
      "metadata": {
        "colab": {
          "base_uri": "https://localhost:8080/"
        },
        "id": "Z2W7wBVInRXZ",
        "outputId": "a7aeac99-1f48-4581-9950-b4a38d0e9800"
      },
      "outputs": [
        {
          "name": "stdout",
          "output_type": "stream",
          "text": [
            "{'Linear Regression': [-0.01, -0.25, 0.08], 'Random Forest': [0.0, -0.29, -0.01], 'XGBoost': [0.0, 0.0, 0.0]}\n",
            "uncertainty\n",
            "{'Linear Regression': [-0.0, -1.0, 0.3], 'Random Forest': [0.0, -1.1, -0.0], 'XGBoost': [0.0, 0.0, 0.0]}\n",
            "      Linear Regression  Random Forest  XGBoost\n",
            "BN                -0.01           0.00      0.0\n",
            "ENPH              -0.25          -0.29      0.0\n",
            "FSLR               0.08          -0.01      0.0\n",
            "      Linear Regression  Random Forest  XGBoost\n",
            "BN                 -0.0            0.0      0.0\n",
            "ENPH               -1.0           -1.1      0.0\n",
            "FSLR                0.3           -0.0      0.0\n"
          ]
        }
      ],
      "source": [
        "# Prepare results for output\n",
        "results = {'Linear Regression': [], 'Random Forest': [], 'XGBoost': []}\n",
        "uncertainty_results = {'Linear Regression': [], 'Random Forest': [], 'XGBoost': []}\n",
        "\n",
        "for model_index, model_name in enumerate(results.keys()):\n",
        "    for company_index in range(n_companies):\n",
        "        results[model_name].append(returns_matrix[company_index, model_index])\n",
        "        uncertainty_results[model_name].append(uncertainty_matrix[company_index, model_index])\n",
        "for model_name in results:\n",
        "    results[model_name] = [round(num, 2) for num in results[model_name]]\n",
        "#this result is the viewDict\n",
        "print(results)\n",
        "\n",
        "for model_name in uncertainty_results:\n",
        "    uncertainty_results[model_name] = [round(num, 1) for num in uncertainty_results[model_name]]\n",
        "print(\"uncertainty\")\n",
        "print(uncertainty_results)\n",
        "\n",
        "\n",
        "# Convert results to DataFrame and display\n",
        "results_df = pd.DataFrame(results, index=['BN', 'ENPH', 'FSLR'])\n",
        "print(results_df)\n",
        "\n",
        "uncertainty_df = pd.DataFrame(uncertainty_results, index=['BN', 'ENPH', 'FSLR'])\n",
        "print(uncertainty_df)\n"
      ]
    },
    {
      "cell_type": "code",
      "execution_count": 50,
      "metadata": {
        "colab": {
          "base_uri": "https://localhost:8080/"
        },
        "id": "iK6DASGExEvu",
        "outputId": "a23e0548-5012-4c73-a6b3-decd06a08964"
      },
      "outputs": [
        {
          "name": "stdout",
          "output_type": "stream",
          "text": [
            "{'BN': -0.01, 'ENPH': -0.25, 'FSLR': 0.08}\n",
            "{'BN': 0.0, 'ENPH': -0.29, 'FSLR': -0.01}\n",
            "{'BN': 0.0, 'ENPH': 0.0, 'FSLR': 0.0}\n"
          ]
        }
      ],
      "source": [
        "#ViewDict for Black-LItterman\n",
        "# for viewDict dictionary\n",
        "# exmaple\n",
        "'''viewdict = {\n",
        "    \"AMZN\": 0.10,\n",
        "    \"BAC\": 0.30,\n",
        "    \"COST\": 0.05,\n",
        "    \"DIS\": 0.05,\n",
        "    \"DPZ\": 0.20,\n",
        "    \"KO\": -0.05,  # I think Coca-Cola will go down 5%\n",
        "    \"MCD\": 0.15,\n",
        "    \"MSFT\": 0.10,\n",
        "    \"NAT\": 0.50,  # but low confidence, which will be reflected later\n",
        "    \"SBUX\": 0.10\n",
        "}\n",
        "'''\n",
        "# Using Linear Regression model\n",
        "\n",
        "linear_regression_returns_viewDict = results_df['Linear Regression'].to_dict()\n",
        "print(linear_regression_returns_viewDict)\n",
        "\n",
        "rf_returns_viewDict = results_df['Random Forest'].to_dict()\n",
        "print(rf_returns_viewDict)\n",
        "\n",
        "xg_returns_viewDict = results_df['XGBoost'].to_dict()\n",
        "print(xg_returns_viewDict)"
      ]
    },
    {
      "cell_type": "code",
      "execution_count": 51,
      "metadata": {
        "colab": {
          "base_uri": "https://localhost:8080/"
        },
        "id": "NY5T9n7HW-4r",
        "outputId": "83f61e35-9691-461a-a21b-40d0bcc3649e"
      },
      "outputs": [
        {
          "name": "stdout",
          "output_type": "stream",
          "text": [
            "[-0.01, -0.25, 0.08]\n"
          ]
        }
      ],
      "source": [
        "print(results_df['Linear Regression'].tolist())"
      ]
    },
    {
      "cell_type": "markdown",
      "metadata": {
        "id": "zH_MpaHuXfJ5"
      },
      "source": []
    },
    {
      "cell_type": "code",
      "execution_count": 52,
      "metadata": {
        "colab": {
          "base_uri": "https://localhost:8080/"
        },
        "id": "kgAaY_fbXRM_",
        "outputId": "4ade0903-f3fc-42d0-cf71-e3c2ff6893dc"
      },
      "outputs": [
        {
          "name": "stdout",
          "output_type": "stream",
          "text": [
            "Portfolio Volatility: 0.1969\n",
            "Sharpe Ratio for the portfolio: -0.1797\n"
          ]
        }
      ],
      "source": [
        "lr_weights = np.array(results_df['Random Forest'].tolist())\n",
        "portfolio_volatility, sharpe_ratio = calculate_sharpe_ratio_portfolio(returns,lr_weights, 0.02)\n",
        "print(f\"Portfolio Volatility: {portfolio_volatility:.4f}\")\n",
        "print(f\"Sharpe Ratio for the portfolio: {sharpe_ratio:.4f}\")"
      ]
    },
    {
      "cell_type": "code",
      "execution_count": 53,
      "metadata": {
        "colab": {
          "base_uri": "https://localhost:8080/"
        },
        "id": "4ulhSiH_uaCT",
        "outputId": "222a9c78-a26f-4ad1-93b3-b5cc3dc28274"
      },
      "outputs": [
        {
          "name": "stdout",
          "output_type": "stream",
          "text": [
            "[-0.0, -1.0, 0.3]\n",
            "[0.0, -1.1, -0.0]\n",
            "[0.0, 0.0, 0.0]\n"
          ]
        }
      ],
      "source": [
        "#uncertainty matrix\n",
        "'''confidences = [\n",
        "    0.6,\n",
        "    0.4,\n",
        "    0.2,\n",
        "    0.5,\n",
        "    0.7, # confident in dominos\n",
        "    0.7, # confident KO will do poorly\n",
        "    0.7,\n",
        "    0.5,\n",
        "    0.1,\n",
        "    0.4\n",
        "]\n",
        "'''\n",
        "\n",
        "linear_regression_confidences = uncertainty_df['Linear Regression'].to_list()\n",
        "print(linear_regression_confidences)\n",
        "\n",
        "rf_confidences = uncertainty_df['Random Forest'].to_list()\n",
        "print(rf_confidences)\n",
        "\n",
        "xgboost_confidences = uncertainty_df['XGBoost'].to_list()\n",
        "print(xgboost_confidences)"
      ]
    },
    {
      "cell_type": "markdown",
      "metadata": {
        "id": "FX6pOk8D1AHz"
      },
      "source": [
        "# Portfolio Optimization\n"
      ]
    },
    {
      "cell_type": "code",
      "execution_count": 54,
      "metadata": {
        "colab": {
          "base_uri": "https://localhost:8080/"
        },
        "collapsed": true,
        "id": "Nx3CPz5Q1ScQ",
        "outputId": "63d480d6-3e29-4d31-e09f-3f682e5e9327"
      },
      "outputs": [
        {
          "name": "stdout",
          "output_type": "stream",
          "text": [
            "Requirement already satisfied: pandas in /Users/lisirui/anaconda3/envs/FPP2/lib/python3.10/site-packages (2.2.2)\n",
            "Requirement already satisfied: numpy in /Users/lisirui/anaconda3/envs/FPP2/lib/python3.10/site-packages (1.26.4)\n",
            "Requirement already satisfied: matplotlib in /Users/lisirui/anaconda3/envs/FPP2/lib/python3.10/site-packages (3.9.1.post1)\n",
            "Requirement already satisfied: yfinance in /Users/lisirui/anaconda3/envs/FPP2/lib/python3.10/site-packages (0.2.41)\n",
            "Requirement already satisfied: PyPortfolioOpt in /Users/lisirui/anaconda3/envs/FPP2/lib/python3.10/site-packages (1.5.5)\n",
            "Requirement already satisfied: python-dateutil>=2.8.2 in /Users/lisirui/anaconda3/envs/FPP2/lib/python3.10/site-packages (from pandas) (2.8.2)\n",
            "Requirement already satisfied: pytz>=2020.1 in /Users/lisirui/anaconda3/envs/FPP2/lib/python3.10/site-packages (from pandas) (2024.1)\n",
            "Requirement already satisfied: tzdata>=2022.7 in /Users/lisirui/anaconda3/envs/FPP2/lib/python3.10/site-packages (from pandas) (2024.1)\n",
            "Requirement already satisfied: contourpy>=1.0.1 in /Users/lisirui/anaconda3/envs/FPP2/lib/python3.10/site-packages (from matplotlib) (1.2.1)\n",
            "Requirement already satisfied: cycler>=0.10 in /Users/lisirui/anaconda3/envs/FPP2/lib/python3.10/site-packages (from matplotlib) (0.12.1)\n",
            "Requirement already satisfied: fonttools>=4.22.0 in /Users/lisirui/anaconda3/envs/FPP2/lib/python3.10/site-packages (from matplotlib) (4.53.1)\n",
            "Requirement already satisfied: kiwisolver>=1.3.1 in /Users/lisirui/anaconda3/envs/FPP2/lib/python3.10/site-packages (from matplotlib) (1.4.5)\n",
            "Requirement already satisfied: packaging>=20.0 in /Users/lisirui/anaconda3/envs/FPP2/lib/python3.10/site-packages (from matplotlib) (21.3)\n",
            "Requirement already satisfied: pillow>=8 in /Users/lisirui/anaconda3/envs/FPP2/lib/python3.10/site-packages (from matplotlib) (10.4.0)\n",
            "Requirement already satisfied: pyparsing>=2.3.1 in /Users/lisirui/anaconda3/envs/FPP2/lib/python3.10/site-packages (from matplotlib) (3.0.9)\n",
            "Requirement already satisfied: requests>=2.31 in /Users/lisirui/anaconda3/envs/FPP2/lib/python3.10/site-packages (from yfinance) (2.32.3)\n",
            "Requirement already satisfied: multitasking>=0.0.7 in /Users/lisirui/anaconda3/envs/FPP2/lib/python3.10/site-packages (from yfinance) (0.0.11)\n",
            "Requirement already satisfied: lxml>=4.9.1 in /Users/lisirui/anaconda3/envs/FPP2/lib/python3.10/site-packages (from yfinance) (5.3.0)\n",
            "Requirement already satisfied: platformdirs>=2.0.0 in /Users/lisirui/anaconda3/envs/FPP2/lib/python3.10/site-packages (from yfinance) (2.5.2)\n",
            "Requirement already satisfied: frozendict>=2.3.4 in /Users/lisirui/anaconda3/envs/FPP2/lib/python3.10/site-packages (from yfinance) (2.4.4)\n",
            "Requirement already satisfied: peewee>=3.16.2 in /Users/lisirui/anaconda3/envs/FPP2/lib/python3.10/site-packages (from yfinance) (3.17.6)\n",
            "Requirement already satisfied: beautifulsoup4>=4.11.1 in /Users/lisirui/anaconda3/envs/FPP2/lib/python3.10/site-packages (from yfinance) (4.12.3)\n",
            "Requirement already satisfied: html5lib>=1.1 in /Users/lisirui/anaconda3/envs/FPP2/lib/python3.10/site-packages (from yfinance) (1.1)\n",
            "Requirement already satisfied: cvxpy<2.0.0,>=1.1.19 in /Users/lisirui/anaconda3/envs/FPP2/lib/python3.10/site-packages (from PyPortfolioOpt) (1.5.2)\n",
            "Requirement already satisfied: scipy<2.0,>=1.3 in /Users/lisirui/anaconda3/envs/FPP2/lib/python3.10/site-packages (from PyPortfolioOpt) (1.14.0)\n",
            "Requirement already satisfied: soupsieve>1.2 in /Users/lisirui/anaconda3/envs/FPP2/lib/python3.10/site-packages (from beautifulsoup4>=4.11.1->yfinance) (2.5)\n",
            "Requirement already satisfied: osqp>=0.6.2 in /Users/lisirui/anaconda3/envs/FPP2/lib/python3.10/site-packages (from cvxpy<2.0.0,>=1.1.19->PyPortfolioOpt) (0.6.7.post1)\n",
            "Requirement already satisfied: ecos>=2 in /Users/lisirui/anaconda3/envs/FPP2/lib/python3.10/site-packages (from cvxpy<2.0.0,>=1.1.19->PyPortfolioOpt) (2.0.14)\n",
            "Requirement already satisfied: clarabel>=0.5.0 in /Users/lisirui/anaconda3/envs/FPP2/lib/python3.10/site-packages (from cvxpy<2.0.0,>=1.1.19->PyPortfolioOpt) (0.9.0)\n",
            "Requirement already satisfied: scs>=3.2.4.post1 in /Users/lisirui/anaconda3/envs/FPP2/lib/python3.10/site-packages (from cvxpy<2.0.0,>=1.1.19->PyPortfolioOpt) (3.2.6)\n",
            "Requirement already satisfied: six>=1.9 in /Users/lisirui/anaconda3/envs/FPP2/lib/python3.10/site-packages (from html5lib>=1.1->yfinance) (1.16.0)\n",
            "Requirement already satisfied: webencodings in /Users/lisirui/anaconda3/envs/FPP2/lib/python3.10/site-packages (from html5lib>=1.1->yfinance) (0.5.1)\n",
            "Requirement already satisfied: charset-normalizer<4,>=2 in /Users/lisirui/anaconda3/envs/FPP2/lib/python3.10/site-packages (from requests>=2.31->yfinance) (3.3.2)\n",
            "Requirement already satisfied: idna<4,>=2.5 in /Users/lisirui/anaconda3/envs/FPP2/lib/python3.10/site-packages (from requests>=2.31->yfinance) (3.7)\n",
            "Requirement already satisfied: urllib3<3,>=1.21.1 in /Users/lisirui/anaconda3/envs/FPP2/lib/python3.10/site-packages (from requests>=2.31->yfinance) (2.2.2)\n",
            "Requirement already satisfied: certifi>=2017.4.17 in /Users/lisirui/anaconda3/envs/FPP2/lib/python3.10/site-packages (from requests>=2.31->yfinance) (2024.7.4)\n",
            "Requirement already satisfied: qdldl in /Users/lisirui/anaconda3/envs/FPP2/lib/python3.10/site-packages (from osqp>=0.6.2->cvxpy<2.0.0,>=1.1.19->PyPortfolioOpt) (0.1.7.post4)\n"
          ]
        }
      ],
      "source": [
        "!pip install pandas numpy matplotlib yfinance PyPortfolioOpt"
      ]
    },
    {
      "cell_type": "code",
      "execution_count": 55,
      "metadata": {
        "id": "sjf6Oqa51SfT"
      },
      "outputs": [],
      "source": [
        "import numpy as np\n",
        "import pandas as pd\n",
        "import matplotlib.pyplot as plt\n",
        "import yfinance as yf\n",
        "from pypfopt import EfficientFrontier, risk_models, black_litterman, expected_returns, BlackLittermanModel, HRPOpt, CLA"
      ]
    },
    {
      "cell_type": "code",
      "execution_count": 56,
      "metadata": {
        "colab": {
          "base_uri": "https://localhost:8080/",
          "height": 255
        },
        "collapsed": true,
        "id": "tlaIEwgR1SiG",
        "outputId": "93588e22-a96c-43f4-95d8-a6ad07d8f4b0"
      },
      "outputs": [
        {
          "name": "stderr",
          "output_type": "stream",
          "text": [
            "[*********************100%%**********************]  3 of 3 completed\n"
          ]
        },
        {
          "data": {
            "text/html": [
              "<div>\n",
              "<style scoped>\n",
              "    .dataframe tbody tr th:only-of-type {\n",
              "        vertical-align: middle;\n",
              "    }\n",
              "\n",
              "    .dataframe tbody tr th {\n",
              "        vertical-align: top;\n",
              "    }\n",
              "\n",
              "    .dataframe thead th {\n",
              "        text-align: right;\n",
              "    }\n",
              "</style>\n",
              "<table border=\"1\" class=\"dataframe\">\n",
              "  <thead>\n",
              "    <tr style=\"text-align: right;\">\n",
              "      <th>Ticker</th>\n",
              "      <th>BN</th>\n",
              "      <th>ENPH</th>\n",
              "      <th>FSLR</th>\n",
              "    </tr>\n",
              "    <tr>\n",
              "      <th>Date</th>\n",
              "      <th></th>\n",
              "      <th></th>\n",
              "      <th></th>\n",
              "    </tr>\n",
              "  </thead>\n",
              "  <tbody>\n",
              "    <tr>\n",
              "      <th>2022-01-03</th>\n",
              "      <td>47.336151</td>\n",
              "      <td>184.449997</td>\n",
              "      <td>88.580002</td>\n",
              "    </tr>\n",
              "    <tr>\n",
              "      <th>2022-01-04</th>\n",
              "      <td>47.786217</td>\n",
              "      <td>178.279999</td>\n",
              "      <td>87.279999</td>\n",
              "    </tr>\n",
              "    <tr>\n",
              "      <th>2022-01-05</th>\n",
              "      <td>45.622723</td>\n",
              "      <td>157.199997</td>\n",
              "      <td>83.510002</td>\n",
              "    </tr>\n",
              "    <tr>\n",
              "      <th>2022-01-06</th>\n",
              "      <td>45.441128</td>\n",
              "      <td>151.490005</td>\n",
              "      <td>83.970001</td>\n",
              "    </tr>\n",
              "    <tr>\n",
              "      <th>2022-01-07</th>\n",
              "      <td>45.299004</td>\n",
              "      <td>145.130005</td>\n",
              "      <td>84.680000</td>\n",
              "    </tr>\n",
              "  </tbody>\n",
              "</table>\n",
              "</div>"
            ],
            "text/plain": [
              "Ticker             BN        ENPH       FSLR\n",
              "Date                                        \n",
              "2022-01-03  47.336151  184.449997  88.580002\n",
              "2022-01-04  47.786217  178.279999  87.279999\n",
              "2022-01-05  45.622723  157.199997  83.510002\n",
              "2022-01-06  45.441128  151.490005  83.970001\n",
              "2022-01-07  45.299004  145.130005  84.680000"
            ]
          },
          "execution_count": 56,
          "metadata": {},
          "output_type": "execute_result"
        }
      ],
      "source": [
        "tickers = [\"BN\", \"ENPH\", \"FSLR\"]\n",
        "ohlc = yf.download(tickers, start='2022-01-01',end='2024-01-01')\n",
        "prices = ohlc[\"Adj Close\"]\n",
        "prices.head()"
      ]
    },
    {
      "cell_type": "code",
      "execution_count": 57,
      "metadata": {
        "colab": {
          "base_uri": "https://localhost:8080/",
          "height": 290
        },
        "collapsed": true,
        "id": "1EeqFEXq2VLY",
        "outputId": "fac4a8ae-92f6-4080-b7e0-200b162a61c2"
      },
      "outputs": [
        {
          "name": "stderr",
          "output_type": "stream",
          "text": [
            "[*********************100%%**********************]  1 of 1 completed\n"
          ]
        },
        {
          "data": {
            "text/plain": [
              "Date\n",
              "2023-12-22    470.664490\n",
              "2023-12-26    472.651886\n",
              "2023-12-27    473.506500\n",
              "2023-12-28    473.685333\n",
              "2023-12-29    472.314026\n",
              "Name: Adj Close, dtype: float64"
            ]
          },
          "execution_count": 57,
          "metadata": {},
          "output_type": "execute_result"
        }
      ],
      "source": [
        "market_prices = yf.download(\"SPY\", start='2022-01-01',end='2024-01-01')[\"Adj Close\"]\n",
        "market_prices.tail()"
      ]
    },
    {
      "cell_type": "code",
      "execution_count": 58,
      "metadata": {
        "colab": {
          "base_uri": "https://localhost:8080/"
        },
        "id": "qBBjl_UD1Skr",
        "outputId": "3cc7ea52-5832-46b9-8ca0-8e789b979bd1"
      },
      "outputs": [
        {
          "data": {
            "text/plain": [
              "0.3203796762805008"
            ]
          },
          "execution_count": 58,
          "metadata": {},
          "output_type": "execute_result"
        }
      ],
      "source": [
        "S = risk_models.CovarianceShrinkage(prices).ledoit_wolf()\n",
        "delta = black_litterman.market_implied_risk_aversion(market_prices)\n",
        "delta"
      ]
    },
    {
      "cell_type": "code",
      "execution_count": 59,
      "metadata": {
        "colab": {
          "base_uri": "https://localhost:8080/",
          "height": 238
        },
        "collapsed": true,
        "id": "xa71n5vP1SnR",
        "outputId": "6d7cc246-b819-447e-8bf0-0c27ea4a3e9d"
      },
      "outputs": [
        {
          "data": {
            "text/html": [
              "<div>\n",
              "<style scoped>\n",
              "    .dataframe tbody tr th:only-of-type {\n",
              "        vertical-align: middle;\n",
              "    }\n",
              "\n",
              "    .dataframe tbody tr th {\n",
              "        vertical-align: top;\n",
              "    }\n",
              "\n",
              "    .dataframe thead th {\n",
              "        text-align: right;\n",
              "    }\n",
              "</style>\n",
              "<table border=\"1\" class=\"dataframe\">\n",
              "  <thead>\n",
              "    <tr style=\"text-align: right;\">\n",
              "      <th>Ticker</th>\n",
              "      <th>BN</th>\n",
              "      <th>ENPH</th>\n",
              "      <th>FSLR</th>\n",
              "    </tr>\n",
              "    <tr>\n",
              "      <th>Date</th>\n",
              "      <th></th>\n",
              "      <th></th>\n",
              "      <th></th>\n",
              "    </tr>\n",
              "  </thead>\n",
              "  <tbody>\n",
              "    <tr>\n",
              "      <th>2022-01-04</th>\n",
              "      <td>0.009508</td>\n",
              "      <td>-0.033451</td>\n",
              "      <td>-0.014676</td>\n",
              "    </tr>\n",
              "    <tr>\n",
              "      <th>2022-01-05</th>\n",
              "      <td>-0.045274</td>\n",
              "      <td>-0.118241</td>\n",
              "      <td>-0.043194</td>\n",
              "    </tr>\n",
              "    <tr>\n",
              "      <th>2022-01-06</th>\n",
              "      <td>-0.003980</td>\n",
              "      <td>-0.036323</td>\n",
              "      <td>0.005508</td>\n",
              "    </tr>\n",
              "    <tr>\n",
              "      <th>2022-01-07</th>\n",
              "      <td>-0.003128</td>\n",
              "      <td>-0.041983</td>\n",
              "      <td>0.008455</td>\n",
              "    </tr>\n",
              "    <tr>\n",
              "      <th>2022-01-10</th>\n",
              "      <td>-0.012027</td>\n",
              "      <td>0.013781</td>\n",
              "      <td>-0.004487</td>\n",
              "    </tr>\n",
              "  </tbody>\n",
              "</table>\n",
              "</div>"
            ],
            "text/plain": [
              "Ticker            BN      ENPH      FSLR\n",
              "Date                                    \n",
              "2022-01-04  0.009508 -0.033451 -0.014676\n",
              "2022-01-05 -0.045274 -0.118241 -0.043194\n",
              "2022-01-06 -0.003980 -0.036323  0.005508\n",
              "2022-01-07 -0.003128 -0.041983  0.008455\n",
              "2022-01-10 -0.012027  0.013781 -0.004487"
            ]
          },
          "execution_count": 59,
          "metadata": {},
          "output_type": "execute_result"
        }
      ],
      "source": [
        "daily_returns = prices.pct_change().dropna()\n",
        "mu = expected_returns.mean_historical_return(prices)\n",
        "daily_returns.head()"
      ]
    },
    {
      "cell_type": "code",
      "execution_count": 60,
      "metadata": {
        "id": "ICA6fzVP3K5B"
      },
      "outputs": [],
      "source": [
        "def deviation_risk_parity(w, cov_matrix):\n",
        "    diff = w * np.dot(cov_matrix, w) - (w * np.dot(cov_matrix, w)).reshape(-1, 1)\n",
        "    return (diff**2).sum().sum()"
      ]
    },
    {
      "cell_type": "code",
      "execution_count": 61,
      "metadata": {
        "colab": {
          "base_uri": "https://localhost:8080/"
        },
        "id": "h1NIOq9L1SqB",
        "outputId": "bc6cd42e-edf1-4d6e-8c1a-ebf23dce7893"
      },
      "outputs": [
        {
          "name": "stdout",
          "output_type": "stream",
          "text": [
            "Expected annual return: 4.4%\n",
            "Annual volatility: 37.4%\n",
            "Sharpe Ratio: 0.06\n"
          ]
        },
        {
          "data": {
            "text/plain": [
              "(0.04399302280471225, 0.37397449514591635, 0.06415684255513392)"
            ]
          },
          "execution_count": 61,
          "metadata": {},
          "output_type": "execute_result"
        }
      ],
      "source": [
        "ef = EfficientFrontier(mu, S)\n",
        "weights = ef.nonconvex_objective(deviation_risk_parity, ef.cov_matrix)\n",
        "ef.portfolio_performance(verbose=True)"
      ]
    },
    {
      "cell_type": "markdown",
      "metadata": {
        "id": "HVP7jY-o3QUO"
      },
      "source": [
        "**Black-Litterman**"
      ]
    },
    {
      "cell_type": "code",
      "execution_count": 66,
      "metadata": {
        "colab": {
          "base_uri": "https://localhost:8080/"
        },
        "id": "SGX00kO63Oh5",
        "outputId": "23b3dd7e-f347-4cc6-a2d5-e908cc740208"
      },
      "outputs": [
        {
          "data": {
            "text/plain": [
              "{'BN': 61927684736.36719,\n",
              " 'ENPH': 17894662997.34497,\n",
              " 'FSLR': 18442057029.327393}"
            ]
          },
          "execution_count": 66,
          "metadata": {},
          "output_type": "execute_result"
        }
      ],
      "source": [
        "mcaps = {}\n",
        "for t in tickers:\n",
        "    stock = yf.Ticker(t)\n",
        "    shares_outstanding = stock.info.get('sharesOutstanding')\n",
        "    marketCap=stock.history(start=\"2023-12-29\", end=\"2024-03-31\")['Close'].values[0] * shares_outstanding\n",
        "    mcaps[t] = marketCap\n",
        "mcaps"
      ]
    },
    {
      "cell_type": "code",
      "execution_count": 67,
      "metadata": {
        "id": "BDxFix5S3Okg"
      },
      "outputs": [],
      "source": [
        "prior = black_litterman.market_implied_prior_returns(mcaps, delta, S)"
      ]
    },
    {
      "cell_type": "code",
      "execution_count": 90,
      "metadata": {
        "colab": {
          "base_uri": "https://localhost:8080/"
        },
        "id": "mP06HXzE3Om-",
        "outputId": "81abfcc8-3cb4-44d2-f7ab-b8e84bcda4b0"
      },
      "outputs": [
        {
          "name": "stdout",
          "output_type": "stream",
          "text": [
            "OrderedDict([('BN', 0.0), ('ENPH', 0.0), ('FSLR', 1.0)])\n",
            "Expected annual return: 2.3%\n",
            "Annual volatility: 52.9%\n",
            "Sharpe Ratio: 0.01\n"
          ]
        },
        {
          "data": {
            "text/plain": [
              "(0.02341547604146384, 0.5294945581195306, 0.006450445975485954)"
            ]
          },
          "execution_count": 90,
          "metadata": {},
          "output_type": "execute_result"
        }
      ],
      "source": [
        "#linear_regression_returns_viewDict\n",
        "#rf_returns_viewDict\n",
        "#xg_returns_viewDict\n",
        "bl = BlackLittermanModel(S, pi=prior, absolute_views=linear_regression_returns_viewDict, view_confidences=linear_regression_confidences)\n",
        "rets = bl.bl_returns()\n",
        "ef = EfficientFrontier(rets, S)\n",
        "ef.max_sharpe()\n",
        "print(ef.clean_weights())\n",
        "predicted_features=ef.portfolio_performance(verbose=True)\n",
        "predicted_features"
      ]
    },
    {
      "cell_type": "markdown",
      "metadata": {},
      "source": [
        "### Validation"
      ]
    },
    {
      "cell_type": "code",
      "execution_count": 77,
      "metadata": {},
      "outputs": [
        {
          "data": {
            "text/plain": [
              "(array([0., 0., 1.]), 0.44518034198599654)"
            ]
          },
          "execution_count": 77,
          "metadata": {},
          "output_type": "execute_result"
        }
      ],
      "source": [
        "# use wights from the model to calculate the actual annual returns\n",
        "weights = ef.clean_weights()\n",
        "weights = np.array(list(weights.values()))\n",
        "actual_returns = np.dot(weights, returns[-100:].mean().to_list()) * 252"
      ]
    },
    {
      "cell_type": "code",
      "execution_count": 91,
      "metadata": {},
      "outputs": [
        {
          "name": "stdout",
          "output_type": "stream",
          "text": [
            "Portfolio Return: 0.4452\n",
            "Portfolio Volatility: 0.4674\n",
            "Sharpe Ratio for the portfolio: 0.91\n"
          ]
        }
      ],
      "source": [
        "# use wights from the model to calculate the actual annual volatility and sharpe ratio\n",
        "actual_volatility, actual_sharpe_ratio = calculate_sharpe_ratio_portfolio(returns[-100:], weights, 0.02)\n",
        "print(f\"Portfolio Return: {actual_returns:.4f}\")\n",
        "print(f\"Portfolio Volatility: {actual_volatility:.4f}\")\n",
        "print(f\"Sharpe Ratio for the portfolio: {actual_sharpe_ratio:.2f}\")"
      ]
    },
    {
      "cell_type": "code",
      "execution_count": 94,
      "metadata": {},
      "outputs": [
        {
          "data": {
            "text/plain": [
              "array([ 0.42176487, -0.06205371,  0.90314131])"
            ]
          },
          "execution_count": 94,
          "metadata": {},
          "output_type": "execute_result"
        }
      ],
      "source": [
        "# compare the actual features with the predictied features\n",
        "distance = np.array([actual_returns, actual_volatility, actual_sharpe_ratio]) - predicted_features\n",
        "distance"
      ]
    },
    {
      "cell_type": "markdown",
      "metadata": {
        "id": "BCrKgLHD5nnt"
      },
      "source": [
        "**Hierarchical risk parity**"
      ]
    },
    {
      "cell_type": "code",
      "execution_count": 65,
      "metadata": {
        "colab": {
          "base_uri": "https://localhost:8080/",
          "height": 631
        },
        "id": "_f48sVvr1Ssd",
        "outputId": "1a5f070f-78ca-4a5c-a7c2-541416aa46e5"
      },
      "outputs": [
        {
          "name": "stdout",
          "output_type": "stream",
          "text": [
            "Expected annual return: 7.2%\n",
            "Annual volatility: 33.6%\n",
            "Sharpe Ratio: 0.16\n",
            "OrderedDict([('BN', 0.7063330923023521), ('ENPH', 0.11260492442694024), ('FSLR', 0.1810619832707077)])\n"
          ]
        },
        {
          "name": "stderr",
          "output_type": "stream",
          "text": [
            "/Users/lisirui/anaconda3/envs/FPP2/lib/python3.10/site-packages/pypfopt/hierarchical_portfolio.py:138: FutureWarning: Setting an item of incompatible dtype is deprecated and will raise an error in a future version of pandas. Value '[0.70633309]' has dtype incompatible with int64, please explicitly cast to a compatible dtype first.\n",
            "  w[first_cluster] *= alpha  # weight 1\n"
          ]
        },
        {
          "ename": "OSError",
          "evalue": "'seaborn-deep' is not a valid package style, path of style file, URL of style file, or library style name (library styles are listed in `style.available`)",
          "output_type": "error",
          "traceback": [
            "\u001b[0;31m---------------------------------------------------------------------------\u001b[0m",
            "\u001b[0;31mFileNotFoundError\u001b[0m                         Traceback (most recent call last)",
            "File \u001b[0;32m~/anaconda3/envs/FPP2/lib/python3.10/site-packages/matplotlib/style/core.py:137\u001b[0m, in \u001b[0;36muse\u001b[0;34m(style)\u001b[0m\n\u001b[1;32m    136\u001b[0m \u001b[38;5;28;01mtry\u001b[39;00m:\n\u001b[0;32m--> 137\u001b[0m     style \u001b[38;5;241m=\u001b[39m \u001b[43m_rc_params_in_file\u001b[49m\u001b[43m(\u001b[49m\u001b[43mstyle\u001b[49m\u001b[43m)\u001b[49m\n\u001b[1;32m    138\u001b[0m \u001b[38;5;28;01mexcept\u001b[39;00m \u001b[38;5;167;01mOSError\u001b[39;00m \u001b[38;5;28;01mas\u001b[39;00m err:\n",
            "File \u001b[0;32m~/anaconda3/envs/FPP2/lib/python3.10/site-packages/matplotlib/__init__.py:870\u001b[0m, in \u001b[0;36m_rc_params_in_file\u001b[0;34m(fname, transform, fail_on_error)\u001b[0m\n\u001b[1;32m    869\u001b[0m rc_temp \u001b[38;5;241m=\u001b[39m {}\n\u001b[0;32m--> 870\u001b[0m \u001b[38;5;28;01mwith\u001b[39;00m _open_file_or_url(fname) \u001b[38;5;28;01mas\u001b[39;00m fd:\n\u001b[1;32m    871\u001b[0m     \u001b[38;5;28;01mtry\u001b[39;00m:\n",
            "File \u001b[0;32m~/anaconda3/envs/FPP2/lib/python3.10/contextlib.py:135\u001b[0m, in \u001b[0;36m_GeneratorContextManager.__enter__\u001b[0;34m(self)\u001b[0m\n\u001b[1;32m    134\u001b[0m \u001b[38;5;28;01mtry\u001b[39;00m:\n\u001b[0;32m--> 135\u001b[0m     \u001b[38;5;28;01mreturn\u001b[39;00m \u001b[38;5;28;43mnext\u001b[39;49m\u001b[43m(\u001b[49m\u001b[38;5;28;43mself\u001b[39;49m\u001b[38;5;241;43m.\u001b[39;49m\u001b[43mgen\u001b[49m\u001b[43m)\u001b[49m\n\u001b[1;32m    136\u001b[0m \u001b[38;5;28;01mexcept\u001b[39;00m \u001b[38;5;167;01mStopIteration\u001b[39;00m:\n",
            "File \u001b[0;32m~/anaconda3/envs/FPP2/lib/python3.10/site-packages/matplotlib/__init__.py:847\u001b[0m, in \u001b[0;36m_open_file_or_url\u001b[0;34m(fname)\u001b[0m\n\u001b[1;32m    846\u001b[0m fname \u001b[38;5;241m=\u001b[39m os\u001b[38;5;241m.\u001b[39mpath\u001b[38;5;241m.\u001b[39mexpanduser(fname)\n\u001b[0;32m--> 847\u001b[0m \u001b[38;5;28;01mwith\u001b[39;00m \u001b[38;5;28;43mopen\u001b[39;49m\u001b[43m(\u001b[49m\u001b[43mfname\u001b[49m\u001b[43m,\u001b[49m\u001b[43m \u001b[49m\u001b[43mencoding\u001b[49m\u001b[38;5;241;43m=\u001b[39;49m\u001b[38;5;124;43m'\u001b[39;49m\u001b[38;5;124;43mutf-8\u001b[39;49m\u001b[38;5;124;43m'\u001b[39;49m\u001b[43m)\u001b[49m \u001b[38;5;28;01mas\u001b[39;00m f:\n\u001b[1;32m    848\u001b[0m     \u001b[38;5;28;01myield\u001b[39;00m f\n",
            "\u001b[0;31mFileNotFoundError\u001b[0m: [Errno 2] No such file or directory: 'seaborn-deep'",
            "\nThe above exception was the direct cause of the following exception:\n",
            "\u001b[0;31mOSError\u001b[0m                                   Traceback (most recent call last)",
            "Cell \u001b[0;32mIn [65], line 6\u001b[0m\n\u001b[1;32m      3\u001b[0m hrp\u001b[38;5;241m.\u001b[39mportfolio_performance(verbose\u001b[38;5;241m=\u001b[39m\u001b[38;5;28;01mTrue\u001b[39;00m)\n\u001b[1;32m      4\u001b[0m \u001b[38;5;28mprint\u001b[39m(weights)\n\u001b[0;32m----> 6\u001b[0m \u001b[38;5;28;01mimport\u001b[39;00m \u001b[38;5;21;01mpypfopt\u001b[39;00m\u001b[38;5;21;01m.\u001b[39;00m\u001b[38;5;21;01mplotting\u001b[39;00m \u001b[38;5;28;01mas\u001b[39;00m \u001b[38;5;21;01mplotting\u001b[39;00m\n\u001b[1;32m      7\u001b[0m plotting\u001b[38;5;241m.\u001b[39mplot_dendrogram(hrp)  \u001b[38;5;66;03m# to plot dendrogram\u001b[39;00m\n",
            "File \u001b[0;32m~/anaconda3/envs/FPP2/lib/python3.10/site-packages/pypfopt/plotting.py:21\u001b[0m\n\u001b[1;32m     18\u001b[0m \u001b[38;5;28;01mtry\u001b[39;00m:\n\u001b[1;32m     19\u001b[0m     \u001b[38;5;28;01mimport\u001b[39;00m \u001b[38;5;21;01mmatplotlib\u001b[39;00m\u001b[38;5;21;01m.\u001b[39;00m\u001b[38;5;21;01mpyplot\u001b[39;00m \u001b[38;5;28;01mas\u001b[39;00m \u001b[38;5;21;01mplt\u001b[39;00m\n\u001b[0;32m---> 21\u001b[0m     \u001b[43mplt\u001b[49m\u001b[38;5;241;43m.\u001b[39;49m\u001b[43mstyle\u001b[49m\u001b[38;5;241;43m.\u001b[39;49m\u001b[43muse\u001b[49m\u001b[43m(\u001b[49m\u001b[38;5;124;43m\"\u001b[39;49m\u001b[38;5;124;43mseaborn-deep\u001b[39;49m\u001b[38;5;124;43m\"\u001b[39;49m\u001b[43m)\u001b[49m\n\u001b[1;32m     22\u001b[0m \u001b[38;5;28;01mexcept\u001b[39;00m (\u001b[38;5;167;01mModuleNotFoundError\u001b[39;00m, \u001b[38;5;167;01mImportError\u001b[39;00m):  \u001b[38;5;66;03m# pragma: no cover\u001b[39;00m\n\u001b[1;32m     23\u001b[0m     \u001b[38;5;28;01mraise\u001b[39;00m \u001b[38;5;167;01mImportError\u001b[39;00m(\u001b[38;5;124m\"\u001b[39m\u001b[38;5;124mPlease install matplotlib via pip or poetry\u001b[39m\u001b[38;5;124m\"\u001b[39m)\n",
            "File \u001b[0;32m~/anaconda3/envs/FPP2/lib/python3.10/site-packages/matplotlib/style/core.py:139\u001b[0m, in \u001b[0;36muse\u001b[0;34m(style)\u001b[0m\n\u001b[1;32m    137\u001b[0m         style \u001b[38;5;241m=\u001b[39m _rc_params_in_file(style)\n\u001b[1;32m    138\u001b[0m     \u001b[38;5;28;01mexcept\u001b[39;00m \u001b[38;5;167;01mOSError\u001b[39;00m \u001b[38;5;28;01mas\u001b[39;00m err:\n\u001b[0;32m--> 139\u001b[0m         \u001b[38;5;28;01mraise\u001b[39;00m \u001b[38;5;167;01mOSError\u001b[39;00m(\n\u001b[1;32m    140\u001b[0m             \u001b[38;5;124mf\u001b[39m\u001b[38;5;124m\"\u001b[39m\u001b[38;5;132;01m{\u001b[39;00mstyle\u001b[38;5;132;01m!r}\u001b[39;00m\u001b[38;5;124m is not a valid package style, path of style \u001b[39m\u001b[38;5;124m\"\u001b[39m\n\u001b[1;32m    141\u001b[0m             \u001b[38;5;124mf\u001b[39m\u001b[38;5;124m\"\u001b[39m\u001b[38;5;124mfile, URL of style file, or library style name (library \u001b[39m\u001b[38;5;124m\"\u001b[39m\n\u001b[1;32m    142\u001b[0m             \u001b[38;5;124mf\u001b[39m\u001b[38;5;124m\"\u001b[39m\u001b[38;5;124mstyles are listed in `style.available`)\u001b[39m\u001b[38;5;124m\"\u001b[39m) \u001b[38;5;28;01mfrom\u001b[39;00m \u001b[38;5;21;01merr\u001b[39;00m\n\u001b[1;32m    143\u001b[0m filtered \u001b[38;5;241m=\u001b[39m {}\n\u001b[1;32m    144\u001b[0m \u001b[38;5;28;01mfor\u001b[39;00m k \u001b[38;5;129;01min\u001b[39;00m style:  \u001b[38;5;66;03m# don't trigger RcParams.__getitem__('backend')\u001b[39;00m\n",
            "\u001b[0;31mOSError\u001b[0m: 'seaborn-deep' is not a valid package style, path of style file, URL of style file, or library style name (library styles are listed in `style.available`)"
          ]
        }
      ],
      "source": [
        "hrp = HRPOpt(daily_returns)\n",
        "weights = hrp.optimize()\n",
        "hrp.portfolio_performance(verbose=True)\n",
        "print(weights)\n",
        "\n",
        "import pypfopt.plotting as plotting\n",
        "plotting.plot_dendrogram(hrp)  # to plot dendrogram"
      ]
    },
    {
      "cell_type": "code",
      "execution_count": null,
      "metadata": {
        "colab": {
          "base_uri": "https://localhost:8080/",
          "height": 576
        },
        "id": "0h-fo_626GNj",
        "outputId": "b42c448d-63fb-44d6-e17c-7340f4798e2e"
      },
      "outputs": [],
      "source": [
        "cla = CLA(mu, S)\n",
        "print(cla.max_sharpe())\n",
        "cla.portfolio_performance(verbose=True)\n",
        "plotting.plot_efficient_frontier(cla)  # to plot"
      ]
    },
    {
      "cell_type": "markdown",
      "metadata": {
        "id": "u16Tjq8C6dfz"
      },
      "source": [
        "# Summary"
      ]
    },
    {
      "cell_type": "code",
      "execution_count": null,
      "metadata": {
        "colab": {
          "base_uri": "https://localhost:8080/",
          "height": 393
        },
        "id": "sLCM4kMV6c1-",
        "outputId": "2af29bc2-ec5b-4b41-f65d-40a6ebdaf4f9"
      },
      "outputs": [],
      "source": [
        "%matplotlib inline\n",
        "%load_ext autoreload\n",
        "%autoreload 2\n",
        "%config InlineBackend.figure_format = 'svg'\n",
        "\n",
        "import numpy as np\n",
        "import pandas as pd\n",
        "import seaborn as sns\n",
        "import datetime as dt\n",
        "import matplotlib.pyplot as plt\n",
        "\n",
        "import universal as up\n",
        "from universal import tools, algos\n",
        "from universal.algos import *\n",
        "\n",
        "sns.set_context(\"notebook\")\n",
        "plt.rcParams[\"figure.figsize\"] = (16, 8)"
      ]
    },
    {
      "cell_type": "code",
      "execution_count": null,
      "metadata": {
        "id": "jMi-7_oznI0J"
      },
      "outputs": [],
      "source": [
        "# Prepare data for visualizations\n",
        "'''\n",
        "model_names = ['Linear Regression', 'Random Forest', 'XGBoost']\n",
        "company_names = ['Company 1', 'Company 2', 'Company 3']\n",
        "\n",
        "# Box Plots\n",
        "\n",
        "for i in range(n_companies):\n",
        "    plt.figure(figsize=(14, 7))\n",
        "    data = [predicted_returns[i][model_name] for model_name in model_names]\n",
        "    plt.boxplot(data, labels=model_names)\n",
        "    plt.title(f'Box Plot of Predicted Returns for {company_names[i]}')\n",
        "    plt.ylabel('Expected Return')\n",
        "    plt.show()\n",
        "\n",
        "# Line Plots for Actual vs. Predicted Returns\n",
        "for i, (X_train, X_test, y_train, y_test) in enumerate(data_splits):\n",
        "    predictions = predicted_returns[i]\n",
        "\n",
        "    plt.figure(figsize=(14, 7))\n",
        "    plt.plot(y_test.index, y_test, label='Actual Returns', color='blue')\n",
        "    plt.plot(y_test.index, predictions['Linear Regression'], label='Predicted Returns - Linear Regression', color='red')\n",
        "    plt.plot(y_test.index, predictions['Random Forest'], label='Predicted Returns - Random Forest', color='green')\n",
        "    plt.plot(y_test.index, predictions['XGBoost'], label='Predicted Returns - XGBoost', color='orange')\n",
        "    plt.title(f'Actual vs Predicted Returns for {company_names[i]}')\n",
        "    plt.xlabel('Date')\n",
        "    plt.ylabel('Returns')\n",
        "    plt.legend()\n",
        "    plt.show()\n",
        "\n",
        "# Scatter Plots for Actual vs. Predicted Returns\n",
        "for i, (X_train, X_test, y_train, y_test) in enumerate(data_splits):\n",
        "    predictions = predicted_returns[i]\n",
        "\n",
        "    plt.figure(figsize=(14, 7))\n",
        "    plt.scatter(y_test, predictions['Linear Regression'], label='Linear Regression', color='red')\n",
        "    plt.scatter(y_test, predictions['Random Forest'], label='Random Forest', color='green')\n",
        "    plt.scatter(y_test, predictions['XGBoost'], label='XGBoost', color='orange')\n",
        "    plt.plot([y_test.min(), y_test.max()], [y_test.min(), y_test.max()], 'k--', lw=2)\n",
        "    plt.title(f'Scatter Plot of Actual vs Predicted Returns for {company_names[i]}')\n",
        "    plt.xlabel('Actual Returns')\n",
        "    plt.ylabel('Predicted Returns')\n",
        "    plt.legend()\n",
        "    plt.show()\n",
        "'''"
      ]
    },
    {
      "cell_type": "code",
      "execution_count": null,
      "metadata": {
        "colab": {
          "base_uri": "https://localhost:8080/",
          "height": 1000
        },
        "id": "kF85o2DncL6a",
        "outputId": "da76a86e-a2ec-4038-efb4-95f36a3b6869"
      },
      "outputs": [],
      "source": [
        "\n",
        "print(\"\\nConfidence Intervals Matrix (95% CI):\")\n",
        "print(confidence_intervals_matrix)\n",
        "\n",
        "# Prepare data for visualizations\n",
        "model_names = ['Linear Regression', 'Random Forest', 'XGBoost']\n",
        "company_names = ['Company 1', 'Company 2', 'Company 3']\n",
        "\n",
        "# Plot predicted returns with confidence intervals\n",
        "for i in range(n_companies):\n",
        "    plt.figure(figsize=(14, 7))\n",
        "    for j in range(n_models):\n",
        "        plt.errorbar(j, returns_matrix[i, j],\n",
        "                     yerr=[[returns_matrix[i, j] - confidence_intervals_matrix[i, j, 0]], [confidence_intervals_matrix[i, j, 1] - returns_matrix[i, j]]],\n",
        "                     fmt='o', capsize=5, label=f'{model_names[j]} Mean Return')\n",
        "    plt.title(f'Returns and Confidence Intervals for {company_names[i]}')\n",
        "    plt.xlabel('Model')\n",
        "    plt.ylabel('Expected Return')\n",
        "    plt.xticks(range(n_models), model_names)\n",
        "    plt.legend()\n",
        "    plt.show()"
      ]
    },
    {
      "cell_type": "code",
      "execution_count": null,
      "metadata": {
        "colab": {
          "base_uri": "https://localhost:8080/",
          "height": 1000
        },
        "id": "fnMr7G9ScZ8X",
        "outputId": "af770aee-dea5-43f7-8966-839f6e509685"
      },
      "outputs": [],
      "source": [
        "import seaborn as sns\n",
        "\n",
        "for i in range(n_companies):\n",
        "    plt.figure(figsize=(14, 7))\n",
        "    for model_name in model_names:\n",
        "        sns.kdeplot(predicted_returns[i][model_name], label=model_name)\n",
        "    plt.title(f'Density Plot of Predicted Returns for {company_names[i]}')\n",
        "    plt.xlabel('Expected Return')\n",
        "    plt.ylabel('Density')\n",
        "    plt.legend()\n",
        "    plt.show()"
      ]
    },
    {
      "cell_type": "code",
      "execution_count": null,
      "metadata": {
        "colab": {
          "base_uri": "https://localhost:8080/",
          "height": 1000
        },
        "id": "KIJYMwj5aTmq",
        "outputId": "db89edbf-92e8-46eb-dc1d-83773a095dd8"
      },
      "outputs": [],
      "source": [
        "model_names = ['Linear Regression', 'Random Forest', 'XGBoost']\n",
        "company_names = ['Company 1', 'Company 2', 'Company 3']\n",
        "\n",
        "for i in range(n_companies):\n",
        "    plt.figure(figsize=(14, 7))\n",
        "    for j in range(n_models):\n",
        "        plt.bar(j, returns_matrix[i, j], label=f'{model_names[j]} Mean Return')\n",
        "    plt.title(f'Predicted Returns for {company_names[i]}')\n",
        "    plt.xlabel('Model')\n",
        "    plt.ylabel('Expected Return')\n",
        "    plt.xticks(range(n_models), model_names)\n",
        "    plt.legend()\n",
        "    plt.show()"
      ]
    },
    {
      "cell_type": "code",
      "execution_count": null,
      "metadata": {
        "colab": {
          "base_uri": "https://localhost:8080/",
          "height": 745
        },
        "id": "f7yhwS2la26C",
        "outputId": "aff46e5b-daa5-4ec9-f626-2322ce1af425"
      },
      "outputs": [],
      "source": [
        "for i, (X_train, X_test, y_train, y_test) in enumerate(data_splits):\n",
        "    predictions = train_and_predict(X_train, y_train, X_test)\n",
        "\n",
        "    plt.figure(figsize=(14, 7))\n",
        "    plt.plot(y_test.index, y_test, label='Actual Returns', color='blue')\n",
        "    plt.plot(y_test.index, predictions['LinearRegression'], label='Predicted Returns - Linear Regression', color='red')\n",
        "    plt.plot(y_test.index, predictions['RandomForest'], label='Predicted Returns - Random Forest', color='green')\n",
        "    plt.plot(y_test.index, predictions['XGBoost'], label='Predicted Returns - XGBoost', color='orange')\n",
        "    plt.title(f'Actual vs Predicted Returns for {company_names[i]}')\n",
        "    plt.xlabel('Date')\n",
        "    plt.ylabel('Returns')\n",
        "    plt.legend()\n",
        "    plt.show()"
      ]
    }
  ],
  "metadata": {
    "colab": {
      "provenance": []
    },
    "kernelspec": {
      "display_name": "Python 3",
      "name": "python3"
    },
    "language_info": {
      "codemirror_mode": {
        "name": "ipython",
        "version": 3
      },
      "file_extension": ".py",
      "mimetype": "text/x-python",
      "name": "python",
      "nbconvert_exporter": "python",
      "pygments_lexer": "ipython3",
      "version": "3.10.14"
    }
  },
  "nbformat": 4,
  "nbformat_minor": 0
}
