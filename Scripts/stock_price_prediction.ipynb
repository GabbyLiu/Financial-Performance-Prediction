{
 "cells": [
  {
   "cell_type": "code",
   "execution_count": 1,
   "metadata": {},
   "outputs": [],
   "source": [
    "import os\n",
    "import numpy as np\n",
    "import pandas as pd\n",
    "import matplotlib.pyplot as plt\n",
    "from sklearn.model_selection import train_test_split\n",
    "from sklearn.metrics import mean_squared_error\n",
    "from sklearn.linear_model import LinearRegression\n",
    "from sklearn.tree import DecisionTreeRegressor\n",
    "from sklearn.ensemble import RandomForestRegressor\n",
    "import xgboost as xgb\n",
    "import warnings\n",
    "warnings.filterwarnings(\"ignore\")"
   ]
  },
  {
   "cell_type": "code",
   "execution_count": 14,
   "metadata": {},
   "outputs": [],
   "source": [
    "def load_data(filepath):\n",
    "    data = pd.read_csv(filepath)\n",
    "    data['Date'] = pd.to_datetime(data['Date'])\n",
    "    return data\n",
    "\n",
    "def create_sliding_window(data, window_size=5):\n",
    "    X, y, dates = [], [], []\n",
    "    for i in range(len(data) - window_size):\n",
    "        X.append(data[i:(i + window_size), 1])\n",
    "        y.append(data[i + window_size, 1])\n",
    "        dates.append(data[i + window_size, 0])\n",
    "    return np.array(X), np.array(y), np.array(dates)\n",
    "\n",
    "def prepare_data(data, train_ratio=0.8):\n",
    "    data = data[['Date', 'Close']]\n",
    "    data['Close'] = data['Close'].shift(-1)\n",
    "    data.dropna(inplace=True)\n",
    "    values = data.values\n",
    "    X, y, dates = create_sliding_window(values)\n",
    "    \n",
    "    dates = pd.to_datetime(dates)\n",
    "    total_points = len(dates)\n",
    "    split_index = int(total_points * train_ratio)\n",
    "    split_date = dates[split_index]\n",
    "    \n",
    "    train_mask = dates <= split_date\n",
    "    test_mask = dates > split_date\n",
    "    \n",
    "    X_train, y_train = X[train_mask], y[train_mask]\n",
    "    X_test, y_test = X[test_mask], y[test_mask]\n",
    "    return (X_train, X_test, y_train, y_test), dates[train_mask], dates[test_mask]\n",
    "\n",
    "def train_model(model, X_train, y_train):\n",
    "    model.fit(X_train, y_train)\n",
    "    return model\n",
    "\n",
    "def predict(model, X_test):\n",
    "    return model.predict(X_test)\n",
    "\n",
    "def evaluate(predictions, y_test):\n",
    "    mse = mean_squared_error(y_test, predictions)\n",
    "    rmse = np.sqrt(mse)\n",
    "    return mse, rmse\n",
    "\n",
    "def visualize(train_dates, y_train, test_dates, y_test, predictions, company_name):\n",
    "    # make sure the directory exists\n",
    "    plots_dir = '/Users/lisirui/Desktop/FPP/Stock_prediction' # path to save plots\n",
    "    company_dir = f'{plots_dir}/{company_name}'\n",
    "    os.makedirs(company_dir, exist_ok=True)\n",
    "\n",
    "    # sort dates\n",
    "    full_dates = np.concatenate([train_dates, test_dates])\n",
    "    full_actuals = np.concatenate([y_train, y_test])\n",
    "    sorted_indices = np.argsort(full_dates)\n",
    "\n",
    "    # visualize and save each plot separately\n",
    "    for name, preds in predictions.items():\n",
    "        plt.figure(figsize=(10, 6))\n",
    "        plt.plot(full_dates[sorted_indices], full_actuals[sorted_indices], label='Actual Prices', color='blue')\n",
    "        \n",
    "        extended_preds = np.empty_like(full_actuals)\n",
    "        extended_preds[:] = np.nan\n",
    "        extended_preds[-len(preds):] = preds\n",
    "        \n",
    "        plt.plot(full_dates[sorted_indices], extended_preds[sorted_indices], label=f'{name} Predicted Prices', color='yellow')\n",
    "        plt.title(f'{name} Predictions vs Actual')\n",
    "        plt.xlabel('Date')\n",
    "        plt.ylabel('Price')\n",
    "        plt.xticks(rotation=45)\n",
    "        plt.legend()\n",
    "        plt.grid(True)\n",
    "        plt.savefig(f'{company_dir}/{name.replace(\" \", \"_\").lower()}_predictions.png')\n",
    "        plt.close()\n",
    "    \n",
    "    return company_dir"
   ]
  },
  {
   "cell_type": "code",
   "execution_count": 3,
   "metadata": {},
   "outputs": [],
   "source": [
    "models = {\n",
    "    \"Linear Regression\": LinearRegression(),\n",
    "    \"Decision Tree\": DecisionTreeRegressor(random_state=42),\n",
    "    \"Random Forest\": RandomForestRegressor(n_estimators=1000, random_state=42),\n",
    "    \"XGBoost\": xgb.XGBRegressor(objective='reg:squarederror', n_estimators=1000, seed=16)\n",
    "}"
   ]
  },
  {
   "cell_type": "code",
   "execution_count": 12,
   "metadata": {},
   "outputs": [],
   "source": [
    "data_dir = '/Users/lisirui/Desktop/FPP/Data/First_Solar/first_solar_stock_data.csv' # your stock data path\n",
    "data = load_data(data_dir)\n",
    "(X_train, X_test, y_train, y_test), train_dates, test_dates = prepare_data(data)"
   ]
  },
  {
   "cell_type": "code",
   "execution_count": 13,
   "metadata": {},
   "outputs": [
    {
     "name": "stdout",
     "output_type": "stream",
     "text": [
      "Linear Regression MSE: 45.9654, RMSE: 6.7798\n",
      "Decision Tree MSE: 822.7664, RMSE: 28.6839\n",
      "Random Forest MSE: 658.9817, RMSE: 25.6706\n",
      "XGBoost MSE: 751.0569, RMSE: 27.4054\n"
     ]
    }
   ],
   "source": [
    "predictions = {}\n",
    "evaluations = {}\n",
    "\n",
    "for name, model in models.items():\n",
    "    trained_model = train_model(model, X_train, y_train)\n",
    "    preds = predict(trained_model, X_test)\n",
    "    \n",
    "    mse, rmse = evaluate(preds, y_test)\n",
    "    print(f\"{name} MSE: {mse:.4f}, RMSE: {rmse:.4f}\")\n",
    "    predictions[name] = preds\n",
    "    evaluations[name] = [mse, rmse]"
   ]
  },
  {
   "cell_type": "code",
   "execution_count": 10,
   "metadata": {},
   "outputs": [],
   "source": [
    "company_name = 'First_Solar' # your company name\n",
    "company_dir = visualize(train_dates, y_train, test_dates, y_test, predictions, company_name)\n",
    "\n",
    "# save evaluations to json file\n",
    "evaluations_df = pd.DataFrame(evaluations, index=['MSE', 'RMSE'])\n",
    "evaluations_df.to_json(f'{company_dir}/evaluations.json')"
   ]
  }
 ],
 "metadata": {
  "kernelspec": {
   "display_name": "python3-10",
   "language": "python",
   "name": "python3"
  },
  "language_info": {
   "codemirror_mode": {
    "name": "ipython",
    "version": 3
   },
   "file_extension": ".py",
   "mimetype": "text/x-python",
   "name": "python",
   "nbconvert_exporter": "python",
   "pygments_lexer": "ipython3",
   "version": "3.9.19"
  }
 },
 "nbformat": 4,
 "nbformat_minor": 2
}
