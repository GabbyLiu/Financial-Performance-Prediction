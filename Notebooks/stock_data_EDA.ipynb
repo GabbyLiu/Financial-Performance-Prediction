{
 "cells": [
  {
   "cell_type": "code",
   "execution_count": null,
   "metadata": {},
   "outputs": [],
   "source": [
    "import pandas as pd\n",
    "\n",
    "# Read raw data\n",
    "def read_data(data_path):\n",
    "    data = pd.read_csv(data_path)\n",
    "    return data"
   ]
  },
  {
   "cell_type": "code",
   "execution_count": 2,
   "metadata": {},
   "outputs": [],
   "source": [
    "import matplotlib.pyplot as plt\n",
    "\n",
    "# EDA stock data for visualization\n",
    "def stock_data_EDA(data, company_name, output_path):\n",
    "    # Convert 'Date' column to datetime\n",
    "    data['Date'] = pd.to_datetime(data['Date'])\n",
    "\n",
    "    # Closing Price Trend\n",
    "    plt.figure(figsize=(10, 6))\n",
    "    plt.plot(data['Date'], data['Close'], label='Closing Price')\n",
    "    plt.title(f'{company_name} Closing Price Trend')\n",
    "    plt.xlabel('Date')\n",
    "    plt.ylabel('Price')\n",
    "    plt.legend()\n",
    "    plt.savefig(f'{output_path}closing_price.png')\n",
    "    plt.close()\n",
    "    \n",
    "    # Daily High\n",
    "    plt.figure(figsize=(10, 6))\n",
    "    plt.plot(data['Date'], data['High'], label='Daily High', color='orange')\n",
    "    plt.title(f'{company_name} Daily High')\n",
    "    plt.xlabel('Date')\n",
    "    plt.ylabel('Price')\n",
    "    plt.legend()\n",
    "    plt.savefig(f'{output_path}daily_high.png')\n",
    "    plt.close()\n",
    "    \n",
    "    # Trading Volume\n",
    "    plt.figure(figsize=(10, 6))\n",
    "    plt.plot(data['Date'], data['Volume'], label='Trading Volume', color='green')\n",
    "    plt.title(f'{company_name} Trading Volume')\n",
    "    plt.xlabel('Date')\n",
    "    plt.ylabel('Volume')\n",
    "    plt.legend()\n",
    "    plt.savefig(f'{output_path}trading_volume.png')\n",
    "    plt.close()\n",
    "    \n",
    "    # Moving Averages (30-day)\n",
    "    data['MA30'] = data['Close'].rolling(window=30).mean()\n",
    "    plt.figure(figsize=(10, 6))\n",
    "    plt.plot(data['Date'], data['Close'], label='Closing Price')\n",
    "    plt.plot(data['Date'], data['MA30'], label='30-day MA', color='red')\n",
    "    plt.title(f'{company_name} 30-day Moving Average')\n",
    "    plt.xlabel('Date')\n",
    "    plt.ylabel('Price')\n",
    "    plt.legend()\n",
    "    plt.savefig(f'{output_path}moving_average.png')\n",
    "    plt.close()\n",
    "    \n",
    "    # Exponential Moving Averages (30-day)\n",
    "    data['EMA30'] = data['Close'].ewm(span=30, adjust=False).mean()\n",
    "    plt.figure(figsize=(10, 6))\n",
    "    plt.plot(data['Date'], data['Close'], label='Closing Price')\n",
    "    plt.plot(data['Date'], data['EMA30'], label='30-day EMA', color='purple')\n",
    "    plt.title(f'{company_name} 30-day Exponential Moving Average')\n",
    "    plt.xlabel('Date')\n",
    "    plt.ylabel('Price')\n",
    "    plt.legend()\n",
    "    plt.savefig(f'{output_path}exponential_moving_average.png')\n",
    "    plt.close()"
   ]
  },
  {
   "cell_type": "code",
   "execution_count": 7,
   "metadata": {},
   "outputs": [],
   "source": [
    "# Read stock data for your company\n",
    "data_path = \"\"\n",
    "data = read_data(data_path)\n",
    "\n",
    "# EDA for your company\n",
    "your_company = \"\"\n",
    "output_path = \"\"\n",
    "stock_data_EDA(data, your_company, output_path)\n"
   ]
  }
 ],
 "metadata": {
  "kernelspec": {
   "display_name": "python3-10",
   "language": "python",
   "name": "python3"
  },
  "language_info": {
   "codemirror_mode": {
    "name": "ipython",
    "version": 3
   },
   "file_extension": ".py",
   "mimetype": "text/x-python",
   "name": "python",
   "nbconvert_exporter": "python",
   "pygments_lexer": "ipython3",
   "version": "3.10.14"
  }
 },
 "nbformat": 4,
 "nbformat_minor": 2
}
